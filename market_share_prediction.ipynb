{
  "nbformat": 4,
  "nbformat_minor": 0,
  "metadata": {
    "kernelspec": {
      "name": "python3",
      "display_name": "Python 3"
    },
    "language_info": {
      "codemirror_mode": {
        "name": "ipython",
        "version": 3
      },
      "file_extension": ".py",
      "mimetype": "text/x-python",
      "name": "python",
      "nbconvert_exporter": "python",
      "pygments_lexer": "ipython3",
      "version": "3.6.8"
    },
    "colab": {
      "name": "yapaitek_market_share_analysis.ipynb",
      "provenance": [],
      "collapsed_sections": [],
      "machine_shape": "hm"
    },
    "accelerator": "GPU"
  },
  "cells": [
    {
      "cell_type": "markdown",
      "metadata": {
        "id": "xOD2I6gdx1gw",
        "colab_type": "text"
      },
      "source": [
        "### Importing Libraries"
      ]
    },
    {
      "cell_type": "code",
      "metadata": {
        "id": "xFIBZDVgx9hM",
        "colab_type": "code",
        "outputId": "e53ca4df-e3bc-47f7-fd68-d5f767e58c73",
        "colab": {
          "base_uri": "https://localhost:8080/",
          "height": 128
        }
      },
      "source": [
        "from google.colab import drive\n",
        "drive.mount('/content/drive')"
      ],
      "execution_count": 0,
      "outputs": [
        {
          "output_type": "stream",
          "text": [
            "Go to this URL in a browser: https://accounts.google.com/o/oauth2/auth?client_id=947318989803-6bn6qk8qdgf4n4g3pfee6491hc0brc4i.apps.googleusercontent.com&redirect_uri=urn%3aietf%3awg%3aoauth%3a2.0%3aoob&response_type=code&scope=email%20https%3a%2f%2fwww.googleapis.com%2fauth%2fdocs.test%20https%3a%2f%2fwww.googleapis.com%2fauth%2fdrive%20https%3a%2f%2fwww.googleapis.com%2fauth%2fdrive.photos.readonly%20https%3a%2f%2fwww.googleapis.com%2fauth%2fpeopleapi.readonly\n",
            "\n",
            "Enter your authorization code:\n",
            "··········\n",
            "Mounted at /content/drive\n"
          ],
          "name": "stdout"
        }
      ]
    },
    {
      "cell_type": "code",
      "metadata": {
        "id": "3hxtkLaFx1gy",
        "colab_type": "code",
        "colab": {}
      },
      "source": [
        "import numpy as np\n",
        "import pandas as pd\n",
        "pd.options.mode.chained_assignment = None\n",
        "import matplotlib.pyplot as plt\n",
        "import statsmodels.api as sm\n",
        "from sklearn.linear_model import LinearRegression\n",
        "from sklearn.preprocessing import PolynomialFeatures\n",
        "from scipy.stats import shapiro\n",
        "import seaborn as sns\n",
        "sns.set()\n",
        "sns.set(rc={'figure.figsize':(8,6)})"
      ],
      "execution_count": 0,
      "outputs": []
    },
    {
      "cell_type": "code",
      "metadata": {
        "id": "bCSm3-imyNLj",
        "colab_type": "code",
        "colab": {}
      },
      "source": [
        "!cp drive/My\\ Drive/yapaitek/exported_csv_montreal_tv_locals_after_imputing_missing_data.csv ."
      ],
      "execution_count": 0,
      "outputs": []
    },
    {
      "cell_type": "markdown",
      "metadata": {
        "id": "trBZYUzpx1g6",
        "colab_type": "text"
      },
      "source": [
        "1. \"Temperature in Montreal during episode\" column was imputed by \"Multiple Imputations by Chained Equations(MICE) method because more than 5% of data was missing (about 13 percent)\n",
        "\n",
        "\n",
        "\n",
        "2. There were 43 missing values in Start_time, End_time which are now removed\n",
        "\n",
        "\n",
        "\n",
        "3. Dataset columns are renamed and formatted "
      ]
    },
    {
      "cell_type": "code",
      "metadata": {
        "id": "5maWnaCXx1g9",
        "colab_type": "code",
        "outputId": "5af51782-da2e-4a2d-f29c-a7210efc45a9",
        "colab": {
          "base_uri": "https://localhost:8080/",
          "height": 420
        }
      },
      "source": [
        "raw_data = pd.read_csv('exported_csv_montreal_tv_locals_after_imputing_missing_data.csv',index_col=['Id'])\n",
        "raw_data['Year'] = raw_data['Year'].astype('category')\n",
        "raw_data.sort_values(['Id']).head(3)"
      ],
      "execution_count": 0,
      "outputs": [
        {
          "output_type": "execute_result",
          "data": {
            "text/html": [
              "<div>\n",
              "<style scoped>\n",
              "    .dataframe tbody tr th:only-of-type {\n",
              "        vertical-align: middle;\n",
              "    }\n",
              "\n",
              "    .dataframe tbody tr th {\n",
              "        vertical-align: top;\n",
              "    }\n",
              "\n",
              "    .dataframe thead th {\n",
              "        text-align: right;\n",
              "    }\n",
              "</style>\n",
              "<table border=\"1\" class=\"dataframe\">\n",
              "  <thead>\n",
              "    <tr style=\"text-align: right;\">\n",
              "      <th></th>\n",
              "      <th>Episode</th>\n",
              "      <th>Station</th>\n",
              "      <th>Channel Type</th>\n",
              "      <th>Season</th>\n",
              "      <th>Year</th>\n",
              "      <th>Date</th>\n",
              "      <th>Day of week</th>\n",
              "      <th>Start_time</th>\n",
              "      <th>End_time</th>\n",
              "      <th>Length</th>\n",
              "      <th>Name of show</th>\n",
              "      <th>Genre</th>\n",
              "      <th>First time or rerun</th>\n",
              "      <th>Number of episode in the season</th>\n",
              "      <th>Movie</th>\n",
              "      <th>Game of the Canadiens during episode</th>\n",
              "      <th>Temperature in Montreal during episode</th>\n",
              "      <th>Market Share_total</th>\n",
              "    </tr>\n",
              "    <tr>\n",
              "      <th>Id</th>\n",
              "      <th></th>\n",
              "      <th></th>\n",
              "      <th></th>\n",
              "      <th></th>\n",
              "      <th></th>\n",
              "      <th></th>\n",
              "      <th></th>\n",
              "      <th></th>\n",
              "      <th></th>\n",
              "      <th></th>\n",
              "      <th></th>\n",
              "      <th></th>\n",
              "      <th></th>\n",
              "      <th></th>\n",
              "      <th></th>\n",
              "      <th></th>\n",
              "      <th></th>\n",
              "      <th></th>\n",
              "    </tr>\n",
              "  </thead>\n",
              "  <tbody>\n",
              "    <tr>\n",
              "      <th>0</th>\n",
              "      <td>VidÃ©oclips V</td>\n",
              "      <td>V Total</td>\n",
              "      <td>General Channel</td>\n",
              "      <td>Fall</td>\n",
              "      <td>2016</td>\n",
              "      <td>2016-08-29 00:00:00.000</td>\n",
              "      <td>Monday</td>\n",
              "      <td>2016-08-29 06:00:00.000</td>\n",
              "      <td>2016-08-29 08:00:00.000</td>\n",
              "      <td>8</td>\n",
              "      <td>VidÃ©oclips V</td>\n",
              "      <td>Music Video Clips</td>\n",
              "      <td>No</td>\n",
              "      <td>Yes</td>\n",
              "      <td>No</td>\n",
              "      <td>No</td>\n",
              "      <td>20.400</td>\n",
              "      <td>0.9</td>\n",
              "    </tr>\n",
              "    <tr>\n",
              "      <th>1</th>\n",
              "      <td>Apollo dans l'frigo</td>\n",
              "      <td>V Total</td>\n",
              "      <td>General Channel</td>\n",
              "      <td>Fall</td>\n",
              "      <td>2016</td>\n",
              "      <td>2016-08-29 00:00:00.000</td>\n",
              "      <td>Monday</td>\n",
              "      <td>2016-08-29 08:00:00.000</td>\n",
              "      <td>2016-08-29 08:30:00.000</td>\n",
              "      <td>2</td>\n",
              "      <td>Apollo dans l'frigo</td>\n",
              "      <td>Informal Education and Recreation and Leisure</td>\n",
              "      <td>No</td>\n",
              "      <td>Yes</td>\n",
              "      <td>No</td>\n",
              "      <td>No</td>\n",
              "      <td>19.125</td>\n",
              "      <td>0.5</td>\n",
              "    </tr>\n",
              "    <tr>\n",
              "      <th>2</th>\n",
              "      <td>InfopublicitÃ©</td>\n",
              "      <td>V Total</td>\n",
              "      <td>General Channel</td>\n",
              "      <td>Fall</td>\n",
              "      <td>2016</td>\n",
              "      <td>2016-08-29 00:00:00.000</td>\n",
              "      <td>Monday</td>\n",
              "      <td>2016-08-29 08:30:00.000</td>\n",
              "      <td>2016-08-29 09:00:00.000</td>\n",
              "      <td>2</td>\n",
              "      <td>InfopublicitÃ©</td>\n",
              "      <td>Infomercials, Promotional and Corporate Videos</td>\n",
              "      <td>No</td>\n",
              "      <td>Yes</td>\n",
              "      <td>No</td>\n",
              "      <td>No</td>\n",
              "      <td>19.125</td>\n",
              "      <td>0.3</td>\n",
              "    </tr>\n",
              "  </tbody>\n",
              "</table>\n",
              "</div>"
            ],
            "text/plain": [
              "                Episode  ... Market Share_total\n",
              "Id                       ...                   \n",
              "0         VidÃ©oclips V  ...                0.9\n",
              "1   Apollo dans l'frigo  ...                0.5\n",
              "2        InfopublicitÃ©  ...                0.3\n",
              "\n",
              "[3 rows x 18 columns]"
            ]
          },
          "metadata": {
            "tags": []
          },
          "execution_count": 35
        }
      ]
    },
    {
      "cell_type": "code",
      "metadata": {
        "id": "woW3qYxHWGNG",
        "colab_type": "code",
        "colab": {}
      },
      "source": [
        "import datetime as dt\n",
        "\n",
        "# pd.to_datetime(raw_data['Date']).date()\n",
        "raw_data[\"quarter\"] = pd.to_datetime(raw_data['Date']).dt.quarter\n",
        "raw_data['quarter'] = raw_data['quarter'].astype('category')"
      ],
      "execution_count": 0,
      "outputs": []
    },
    {
      "cell_type": "code",
      "metadata": {
        "id": "TrtILfbnx1hE",
        "colab_type": "code",
        "outputId": "333a2170-5ffe-497e-a274-ea3a050fa0e6",
        "colab": {
          "base_uri": "https://localhost:8080/",
          "height": 536
        }
      },
      "source": [
        "raw_data.describe(include='all')"
      ],
      "execution_count": 135,
      "outputs": [
        {
          "output_type": "execute_result",
          "data": {
            "text/html": [
              "<div>\n",
              "<style scoped>\n",
              "    .dataframe tbody tr th:only-of-type {\n",
              "        vertical-align: middle;\n",
              "    }\n",
              "\n",
              "    .dataframe tbody tr th {\n",
              "        vertical-align: top;\n",
              "    }\n",
              "\n",
              "    .dataframe thead th {\n",
              "        text-align: right;\n",
              "    }\n",
              "</style>\n",
              "<table border=\"1\" class=\"dataframe\">\n",
              "  <thead>\n",
              "    <tr style=\"text-align: right;\">\n",
              "      <th></th>\n",
              "      <th>Episode</th>\n",
              "      <th>Station</th>\n",
              "      <th>Channel Type</th>\n",
              "      <th>Season</th>\n",
              "      <th>Year</th>\n",
              "      <th>Date</th>\n",
              "      <th>Day of week</th>\n",
              "      <th>Start_time</th>\n",
              "      <th>End_time</th>\n",
              "      <th>Length</th>\n",
              "      <th>Name of show</th>\n",
              "      <th>Genre</th>\n",
              "      <th>First time or rerun</th>\n",
              "      <th>Number of episode in the season</th>\n",
              "      <th>Movie</th>\n",
              "      <th>Game of the Canadiens during episode</th>\n",
              "      <th>Temperature in Montreal during episode</th>\n",
              "      <th>Market Share_total</th>\n",
              "      <th>month</th>\n",
              "      <th>quarter</th>\n",
              "    </tr>\n",
              "  </thead>\n",
              "  <tbody>\n",
              "    <tr>\n",
              "      <th>count</th>\n",
              "      <td>616613</td>\n",
              "      <td>616613</td>\n",
              "      <td>616613</td>\n",
              "      <td>616613</td>\n",
              "      <td>616613.0</td>\n",
              "      <td>616613</td>\n",
              "      <td>616613</td>\n",
              "      <td>616613</td>\n",
              "      <td>616613</td>\n",
              "      <td>616613.000000</td>\n",
              "      <td>616613</td>\n",
              "      <td>616613</td>\n",
              "      <td>616613</td>\n",
              "      <td>616613</td>\n",
              "      <td>616613</td>\n",
              "      <td>616613</td>\n",
              "      <td>616613.000000</td>\n",
              "      <td>616613.000000</td>\n",
              "      <td>616613.0</td>\n",
              "      <td>616613.0</td>\n",
              "    </tr>\n",
              "    <tr>\n",
              "      <th>unique</th>\n",
              "      <td>6551</td>\n",
              "      <td>24</td>\n",
              "      <td>2</td>\n",
              "      <td>4</td>\n",
              "      <td>4.0</td>\n",
              "      <td>877</td>\n",
              "      <td>7</td>\n",
              "      <td>138321</td>\n",
              "      <td>138333</td>\n",
              "      <td>NaN</td>\n",
              "      <td>6551</td>\n",
              "      <td>27</td>\n",
              "      <td>2</td>\n",
              "      <td>2</td>\n",
              "      <td>2</td>\n",
              "      <td>2</td>\n",
              "      <td>NaN</td>\n",
              "      <td>NaN</td>\n",
              "      <td>12.0</td>\n",
              "      <td>4.0</td>\n",
              "    </tr>\n",
              "    <tr>\n",
              "      <th>top</th>\n",
              "      <td>ComplÃ©ment de programme canadien</td>\n",
              "      <td>Teletoon Fr.+</td>\n",
              "      <td>Specialty Channel</td>\n",
              "      <td>Fall</td>\n",
              "      <td>2018.0</td>\n",
              "      <td>2018-02-07 00:00:00.000</td>\n",
              "      <td>Wednesday</td>\n",
              "      <td>2018-02-24 02:00:00.000</td>\n",
              "      <td>2018-09-21 23:00:00.000</td>\n",
              "      <td>NaN</td>\n",
              "      <td>ComplÃ©ment de programme canadien</td>\n",
              "      <td>Animated Television Programs &amp; Films</td>\n",
              "      <td>No</td>\n",
              "      <td>Yes</td>\n",
              "      <td>No</td>\n",
              "      <td>No</td>\n",
              "      <td>NaN</td>\n",
              "      <td>NaN</td>\n",
              "      <td>10.0</td>\n",
              "      <td>4.0</td>\n",
              "    </tr>\n",
              "    <tr>\n",
              "      <th>freq</th>\n",
              "      <td>9413</td>\n",
              "      <td>50746</td>\n",
              "      <td>535913</td>\n",
              "      <td>234291</td>\n",
              "      <td>260111.0</td>\n",
              "      <td>840</td>\n",
              "      <td>89726</td>\n",
              "      <td>27</td>\n",
              "      <td>32</td>\n",
              "      <td>NaN</td>\n",
              "      <td>9413</td>\n",
              "      <td>88876</td>\n",
              "      <td>599428</td>\n",
              "      <td>605960</td>\n",
              "      <td>610326</td>\n",
              "      <td>568803</td>\n",
              "      <td>NaN</td>\n",
              "      <td>NaN</td>\n",
              "      <td>65344.0</td>\n",
              "      <td>192577.0</td>\n",
              "    </tr>\n",
              "    <tr>\n",
              "      <th>mean</th>\n",
              "      <td>NaN</td>\n",
              "      <td>NaN</td>\n",
              "      <td>NaN</td>\n",
              "      <td>NaN</td>\n",
              "      <td>NaN</td>\n",
              "      <td>NaN</td>\n",
              "      <td>NaN</td>\n",
              "      <td>NaN</td>\n",
              "      <td>NaN</td>\n",
              "      <td>3.203927</td>\n",
              "      <td>NaN</td>\n",
              "      <td>NaN</td>\n",
              "      <td>NaN</td>\n",
              "      <td>NaN</td>\n",
              "      <td>NaN</td>\n",
              "      <td>NaN</td>\n",
              "      <td>6.707849</td>\n",
              "      <td>3.011577</td>\n",
              "      <td>NaN</td>\n",
              "      <td>NaN</td>\n",
              "    </tr>\n",
              "    <tr>\n",
              "      <th>std</th>\n",
              "      <td>NaN</td>\n",
              "      <td>NaN</td>\n",
              "      <td>NaN</td>\n",
              "      <td>NaN</td>\n",
              "      <td>NaN</td>\n",
              "      <td>NaN</td>\n",
              "      <td>NaN</td>\n",
              "      <td>NaN</td>\n",
              "      <td>NaN</td>\n",
              "      <td>5.306816</td>\n",
              "      <td>NaN</td>\n",
              "      <td>NaN</td>\n",
              "      <td>NaN</td>\n",
              "      <td>NaN</td>\n",
              "      <td>NaN</td>\n",
              "      <td>NaN</td>\n",
              "      <td>11.326101</td>\n",
              "      <td>4.919651</td>\n",
              "      <td>NaN</td>\n",
              "      <td>NaN</td>\n",
              "    </tr>\n",
              "    <tr>\n",
              "      <th>min</th>\n",
              "      <td>NaN</td>\n",
              "      <td>NaN</td>\n",
              "      <td>NaN</td>\n",
              "      <td>NaN</td>\n",
              "      <td>NaN</td>\n",
              "      <td>NaN</td>\n",
              "      <td>NaN</td>\n",
              "      <td>NaN</td>\n",
              "      <td>NaN</td>\n",
              "      <td>0.000000</td>\n",
              "      <td>NaN</td>\n",
              "      <td>NaN</td>\n",
              "      <td>NaN</td>\n",
              "      <td>NaN</td>\n",
              "      <td>NaN</td>\n",
              "      <td>NaN</td>\n",
              "      <td>-27.425000</td>\n",
              "      <td>0.000000</td>\n",
              "      <td>NaN</td>\n",
              "      <td>NaN</td>\n",
              "    </tr>\n",
              "    <tr>\n",
              "      <th>25%</th>\n",
              "      <td>NaN</td>\n",
              "      <td>NaN</td>\n",
              "      <td>NaN</td>\n",
              "      <td>NaN</td>\n",
              "      <td>NaN</td>\n",
              "      <td>NaN</td>\n",
              "      <td>NaN</td>\n",
              "      <td>NaN</td>\n",
              "      <td>NaN</td>\n",
              "      <td>2.000000</td>\n",
              "      <td>NaN</td>\n",
              "      <td>NaN</td>\n",
              "      <td>NaN</td>\n",
              "      <td>NaN</td>\n",
              "      <td>NaN</td>\n",
              "      <td>NaN</td>\n",
              "      <td>-0.325000</td>\n",
              "      <td>0.400000</td>\n",
              "      <td>NaN</td>\n",
              "      <td>NaN</td>\n",
              "    </tr>\n",
              "    <tr>\n",
              "      <th>50%</th>\n",
              "      <td>NaN</td>\n",
              "      <td>NaN</td>\n",
              "      <td>NaN</td>\n",
              "      <td>NaN</td>\n",
              "      <td>NaN</td>\n",
              "      <td>NaN</td>\n",
              "      <td>NaN</td>\n",
              "      <td>NaN</td>\n",
              "      <td>NaN</td>\n",
              "      <td>2.000000</td>\n",
              "      <td>NaN</td>\n",
              "      <td>NaN</td>\n",
              "      <td>NaN</td>\n",
              "      <td>NaN</td>\n",
              "      <td>NaN</td>\n",
              "      <td>NaN</td>\n",
              "      <td>6.671228</td>\n",
              "      <td>1.400000</td>\n",
              "      <td>NaN</td>\n",
              "      <td>NaN</td>\n",
              "    </tr>\n",
              "    <tr>\n",
              "      <th>75%</th>\n",
              "      <td>NaN</td>\n",
              "      <td>NaN</td>\n",
              "      <td>NaN</td>\n",
              "      <td>NaN</td>\n",
              "      <td>NaN</td>\n",
              "      <td>NaN</td>\n",
              "      <td>NaN</td>\n",
              "      <td>NaN</td>\n",
              "      <td>NaN</td>\n",
              "      <td>4.000000</td>\n",
              "      <td>NaN</td>\n",
              "      <td>NaN</td>\n",
              "      <td>NaN</td>\n",
              "      <td>NaN</td>\n",
              "      <td>NaN</td>\n",
              "      <td>NaN</td>\n",
              "      <td>15.575000</td>\n",
              "      <td>3.400000</td>\n",
              "      <td>NaN</td>\n",
              "      <td>NaN</td>\n",
              "    </tr>\n",
              "    <tr>\n",
              "      <th>max</th>\n",
              "      <td>NaN</td>\n",
              "      <td>NaN</td>\n",
              "      <td>NaN</td>\n",
              "      <td>NaN</td>\n",
              "      <td>NaN</td>\n",
              "      <td>NaN</td>\n",
              "      <td>NaN</td>\n",
              "      <td>NaN</td>\n",
              "      <td>NaN</td>\n",
              "      <td>92.000000</td>\n",
              "      <td>NaN</td>\n",
              "      <td>NaN</td>\n",
              "      <td>NaN</td>\n",
              "      <td>NaN</td>\n",
              "      <td>NaN</td>\n",
              "      <td>NaN</td>\n",
              "      <td>34.950000</td>\n",
              "      <td>89.500000</td>\n",
              "      <td>NaN</td>\n",
              "      <td>NaN</td>\n",
              "    </tr>\n",
              "  </tbody>\n",
              "</table>\n",
              "</div>"
            ],
            "text/plain": [
              "                                  Episode        Station  ...     month   quarter\n",
              "count                              616613         616613  ...  616613.0  616613.0\n",
              "unique                               6551             24  ...      12.0       4.0\n",
              "top     ComplÃ©ment de programme canadien  Teletoon Fr.+  ...      10.0       4.0\n",
              "freq                                 9413          50746  ...   65344.0  192577.0\n",
              "mean                                  NaN            NaN  ...       NaN       NaN\n",
              "std                                   NaN            NaN  ...       NaN       NaN\n",
              "min                                   NaN            NaN  ...       NaN       NaN\n",
              "25%                                   NaN            NaN  ...       NaN       NaN\n",
              "50%                                   NaN            NaN  ...       NaN       NaN\n",
              "75%                                   NaN            NaN  ...       NaN       NaN\n",
              "max                                   NaN            NaN  ...       NaN       NaN\n",
              "\n",
              "[11 rows x 20 columns]"
            ]
          },
          "metadata": {
            "tags": []
          },
          "execution_count": 135
        }
      ]
    },
    {
      "cell_type": "markdown",
      "metadata": {
        "id": "X8NtMbNDx1hJ",
        "colab_type": "text"
      },
      "source": [
        "### No missing values!"
      ]
    },
    {
      "cell_type": "code",
      "metadata": {
        "id": "bkR1mMa1x1hK",
        "colab_type": "code",
        "outputId": "b33fc917-74e7-4c9f-9245-d91b3670faec",
        "colab": {
          "base_uri": "https://localhost:8080/",
          "height": 380
        }
      },
      "source": [
        "raw_data.isna().sum()"
      ],
      "execution_count": 0,
      "outputs": [
        {
          "output_type": "execute_result",
          "data": {
            "text/plain": [
              "Episode                                   0\n",
              "Station                                   0\n",
              "Channel Type                              0\n",
              "Season                                    0\n",
              "Year                                      0\n",
              "Date                                      0\n",
              "Day of week                               0\n",
              "Start_time                                0\n",
              "End_time                                  0\n",
              "Length                                    0\n",
              "Name of show                              0\n",
              "Genre                                     0\n",
              "First time or rerun                       0\n",
              "Number of episode in the season           0\n",
              "Movie                                     0\n",
              "Game of the Canadiens during episode      0\n",
              "Temperature in Montreal during episode    0\n",
              "Market Share_total                        0\n",
              "month                                     0\n",
              "dtype: int64"
            ]
          },
          "metadata": {
            "tags": []
          },
          "execution_count": 88
        }
      ]
    },
    {
      "cell_type": "markdown",
      "metadata": {
        "id": "rLL9lPkAx1hQ",
        "colab_type": "text"
      },
      "source": [
        "### Exploring the PDFs "
      ]
    },
    {
      "cell_type": "code",
      "metadata": {
        "id": "WhTmW8E7x1hR",
        "colab_type": "code",
        "outputId": "987acb44-18f8-48a4-b8b3-2288e20b0cf5",
        "colab": {
          "base_uri": "https://localhost:8080/",
          "height": 412
        }
      },
      "source": [
        "sns.distplot(raw_data['Market Share_total'])"
      ],
      "execution_count": 136,
      "outputs": [
        {
          "output_type": "execute_result",
          "data": {
            "text/plain": [
              "<matplotlib.axes._subplots.AxesSubplot at 0x7f448ccfa1d0>"
            ]
          },
          "metadata": {
            "tags": []
          },
          "execution_count": 136
        },
        {
          "output_type": "display_data",
          "data": {
            "image/png": "[encoded data removed]",
            "text/plain": [
              "<Figure size 576x432 with 1 Axes>"
            ]
          },
          "metadata": {
            "tags": []
          }
        }
      ]
    },
    {
      "cell_type": "markdown",
      "metadata": {
        "id": "ZB4COfhpx1hW",
        "colab_type": "text"
      },
      "source": [
        "### Dealing with outliers"
      ]
    },
    {
      "cell_type": "code",
      "metadata": {
        "id": "tPMsHuanx1hX",
        "colab_type": "code",
        "outputId": "9cbfc32b-4e82-4dc7-e0a7-679bfdc0782b",
        "colab": {
          "base_uri": "https://localhost:8080/",
          "height": 300
        }
      },
      "source": [
        "q = raw_data['Market Share_total'].quantile(0.99)\n",
        "data_1 = raw_data[raw_data['Market Share_total'] < q]\n",
        "data_1.describe()"
      ],
      "execution_count": 138,
      "outputs": [
        {
          "output_type": "execute_result",
          "data": {
            "text/html": [
              "<div>\n",
              "<style scoped>\n",
              "    .dataframe tbody tr th:only-of-type {\n",
              "        vertical-align: middle;\n",
              "    }\n",
              "\n",
              "    .dataframe tbody tr th {\n",
              "        vertical-align: top;\n",
              "    }\n",
              "\n",
              "    .dataframe thead th {\n",
              "        text-align: right;\n",
              "    }\n",
              "</style>\n",
              "<table border=\"1\" class=\"dataframe\">\n",
              "  <thead>\n",
              "    <tr style=\"text-align: right;\">\n",
              "      <th></th>\n",
              "      <th>Length</th>\n",
              "      <th>Temperature in Montreal during episode</th>\n",
              "      <th>Market Share_total</th>\n",
              "    </tr>\n",
              "  </thead>\n",
              "  <tbody>\n",
              "    <tr>\n",
              "      <th>count</th>\n",
              "      <td>610442.000000</td>\n",
              "      <td>610442.000000</td>\n",
              "      <td>610442.000000</td>\n",
              "    </tr>\n",
              "    <tr>\n",
              "      <th>mean</th>\n",
              "      <td>3.188439</td>\n",
              "      <td>6.705979</td>\n",
              "      <td>2.705009</td>\n",
              "    </tr>\n",
              "    <tr>\n",
              "      <th>std</th>\n",
              "      <td>5.312420</td>\n",
              "      <td>11.328092</td>\n",
              "      <td>3.832859</td>\n",
              "    </tr>\n",
              "    <tr>\n",
              "      <th>min</th>\n",
              "      <td>0.000000</td>\n",
              "      <td>-27.425000</td>\n",
              "      <td>0.000000</td>\n",
              "    </tr>\n",
              "    <tr>\n",
              "      <th>25%</th>\n",
              "      <td>2.000000</td>\n",
              "      <td>-0.325000</td>\n",
              "      <td>0.400000</td>\n",
              "    </tr>\n",
              "    <tr>\n",
              "      <th>50%</th>\n",
              "      <td>2.000000</td>\n",
              "      <td>6.671228</td>\n",
              "      <td>1.400000</td>\n",
              "    </tr>\n",
              "    <tr>\n",
              "      <th>75%</th>\n",
              "      <td>4.000000</td>\n",
              "      <td>15.575000</td>\n",
              "      <td>3.300000</td>\n",
              "    </tr>\n",
              "    <tr>\n",
              "      <th>max</th>\n",
              "      <td>92.000000</td>\n",
              "      <td>34.950000</td>\n",
              "      <td>26.100000</td>\n",
              "    </tr>\n",
              "  </tbody>\n",
              "</table>\n",
              "</div>"
            ],
            "text/plain": [
              "              Length  ...  Market Share_total\n",
              "count  610442.000000  ...       610442.000000\n",
              "mean        3.188439  ...            2.705009\n",
              "std         5.312420  ...            3.832859\n",
              "min         0.000000  ...            0.000000\n",
              "25%         2.000000  ...            0.400000\n",
              "50%         2.000000  ...            1.400000\n",
              "75%         4.000000  ...            3.300000\n",
              "max        92.000000  ...           26.100000\n",
              "\n",
              "[8 rows x 3 columns]"
            ]
          },
          "metadata": {
            "tags": []
          },
          "execution_count": 138
        }
      ]
    },
    {
      "cell_type": "markdown",
      "metadata": {
        "id": "WY1pwj-gx1hc",
        "colab_type": "text"
      },
      "source": [
        "### Market Share_total"
      ]
    },
    {
      "cell_type": "code",
      "metadata": {
        "id": "BuJRJ3Tax1hd",
        "colab_type": "code",
        "outputId": "8f8d551b-efed-4ac9-b07e-3a5528112642",
        "colab": {
          "base_uri": "https://localhost:8080/",
          "height": 412
        }
      },
      "source": [
        "sns.distplot(data_1['Market Share_total'])"
      ],
      "execution_count": 139,
      "outputs": [
        {
          "output_type": "execute_result",
          "data": {
            "text/plain": [
              "<matplotlib.axes._subplots.AxesSubplot at 0x7f448a063e10>"
            ]
          },
          "metadata": {
            "tags": []
          },
          "execution_count": 139
        },
        {
          "output_type": "display_data",
          "data": {
            "image/png": "[encoded data removed]",
            "text/plain": [
              "<Figure size 576x432 with 1 Axes>"
            ]
          },
          "metadata": {
            "tags": []
          }
        }
      ]
    },
    {
      "cell_type": "markdown",
      "metadata": {
        "id": "3wd_CyY3x1hh",
        "colab_type": "text"
      },
      "source": [
        "### Length"
      ]
    },
    {
      "cell_type": "code",
      "metadata": {
        "id": "XhEEW0PIx1hh",
        "colab_type": "code",
        "outputId": "e83ad0a8-feac-482d-ed38-91b52d2685a3",
        "colab": {
          "base_uri": "https://localhost:8080/",
          "height": 412
        }
      },
      "source": [
        "sns.distplot(data_1['Length'])"
      ],
      "execution_count": 140,
      "outputs": [
        {
          "output_type": "execute_result",
          "data": {
            "text/plain": [
              "<matplotlib.axes._subplots.AxesSubplot at 0x7f4489f38d68>"
            ]
          },
          "metadata": {
            "tags": []
          },
          "execution_count": 140
        },
        {
          "output_type": "display_data",
          "data": {
            "image/png": "[encoded data removed]",
            "text/plain": [
              "<Figure size 576x432 with 1 Axes>"
            ]
          },
          "metadata": {
            "tags": []
          }
        }
      ]
    },
    {
      "cell_type": "code",
      "metadata": {
        "id": "kpIdqs7Ox1hl",
        "colab_type": "code",
        "outputId": "d9ba22e9-9fc7-4e12-8b1f-653e53f41932",
        "colab": {
          "base_uri": "https://localhost:8080/",
          "height": 300
        }
      },
      "source": [
        "q = data_1['Length'].quantile(0.99)\n",
        "data_2 = data_1[data_1['Length'] < q]\n",
        "data_2.describe()"
      ],
      "execution_count": 141,
      "outputs": [
        {
          "output_type": "execute_result",
          "data": {
            "text/html": [
              "<div>\n",
              "<style scoped>\n",
              "    .dataframe tbody tr th:only-of-type {\n",
              "        vertical-align: middle;\n",
              "    }\n",
              "\n",
              "    .dataframe tbody tr th {\n",
              "        vertical-align: top;\n",
              "    }\n",
              "\n",
              "    .dataframe thead th {\n",
              "        text-align: right;\n",
              "    }\n",
              "</style>\n",
              "<table border=\"1\" class=\"dataframe\">\n",
              "  <thead>\n",
              "    <tr style=\"text-align: right;\">\n",
              "      <th></th>\n",
              "      <th>Length</th>\n",
              "      <th>Temperature in Montreal during episode</th>\n",
              "      <th>Market Share_total</th>\n",
              "    </tr>\n",
              "  </thead>\n",
              "  <tbody>\n",
              "    <tr>\n",
              "      <th>count</th>\n",
              "      <td>604147.000000</td>\n",
              "      <td>604147.000000</td>\n",
              "      <td>604147.000000</td>\n",
              "    </tr>\n",
              "    <tr>\n",
              "      <th>mean</th>\n",
              "      <td>2.773426</td>\n",
              "      <td>6.700082</td>\n",
              "      <td>2.727987</td>\n",
              "    </tr>\n",
              "    <tr>\n",
              "      <th>std</th>\n",
              "      <td>2.242164</td>\n",
              "      <td>11.319429</td>\n",
              "      <td>3.844233</td>\n",
              "    </tr>\n",
              "    <tr>\n",
              "      <th>min</th>\n",
              "      <td>0.000000</td>\n",
              "      <td>-27.425000</td>\n",
              "      <td>0.000000</td>\n",
              "    </tr>\n",
              "    <tr>\n",
              "      <th>25%</th>\n",
              "      <td>2.000000</td>\n",
              "      <td>-0.325000</td>\n",
              "      <td>0.400000</td>\n",
              "    </tr>\n",
              "    <tr>\n",
              "      <th>50%</th>\n",
              "      <td>2.000000</td>\n",
              "      <td>6.671228</td>\n",
              "      <td>1.400000</td>\n",
              "    </tr>\n",
              "    <tr>\n",
              "      <th>75%</th>\n",
              "      <td>4.000000</td>\n",
              "      <td>15.550000</td>\n",
              "      <td>3.300000</td>\n",
              "    </tr>\n",
              "    <tr>\n",
              "      <th>max</th>\n",
              "      <td>23.000000</td>\n",
              "      <td>34.950000</td>\n",
              "      <td>26.100000</td>\n",
              "    </tr>\n",
              "  </tbody>\n",
              "</table>\n",
              "</div>"
            ],
            "text/plain": [
              "              Length  ...  Market Share_total\n",
              "count  604147.000000  ...       604147.000000\n",
              "mean        2.773426  ...            2.727987\n",
              "std         2.242164  ...            3.844233\n",
              "min         0.000000  ...            0.000000\n",
              "25%         2.000000  ...            0.400000\n",
              "50%         2.000000  ...            1.400000\n",
              "75%         4.000000  ...            3.300000\n",
              "max        23.000000  ...           26.100000\n",
              "\n",
              "[8 rows x 3 columns]"
            ]
          },
          "metadata": {
            "tags": []
          },
          "execution_count": 141
        }
      ]
    },
    {
      "cell_type": "code",
      "metadata": {
        "id": "fWGjUz9gx1hq",
        "colab_type": "code",
        "outputId": "b843bc5a-1d36-47d9-90ac-15a734cf21e6",
        "colab": {
          "base_uri": "https://localhost:8080/",
          "height": 412
        }
      },
      "source": [
        "sns.distplot(data_2['Length'])"
      ],
      "execution_count": 142,
      "outputs": [
        {
          "output_type": "execute_result",
          "data": {
            "text/plain": [
              "<matplotlib.axes._subplots.AxesSubplot at 0x7f4489e7ea90>"
            ]
          },
          "metadata": {
            "tags": []
          },
          "execution_count": 142
        },
        {
          "output_type": "display_data",
          "data": {
            "image/png": "[encoded data removed]",
            "text/plain": [
              "<Figure size 576x432 with 1 Axes>"
            ]
          },
          "metadata": {
            "tags": []
          }
        }
      ]
    },
    {
      "cell_type": "code",
      "metadata": {
        "id": "-DFPxTMfx1hu",
        "colab_type": "code",
        "outputId": "2e197cd0-e138-4ddf-c611-b14cb23be9f4",
        "colab": {
          "base_uri": "https://localhost:8080/",
          "height": 394
        }
      },
      "source": [
        "# QQ Plot\n",
        "from numpy.random import seed\n",
        "from statsmodels.graphics.gofplots import qqplot\n",
        "# seed the random number generator\n",
        "seed(1)\n",
        "qqplot(data_2[\"Length\"], line='s')\n",
        "plt.show()"
      ],
      "execution_count": 143,
      "outputs": [
        {
          "output_type": "display_data",
          "data": {
            "image/png": "[encoded data removed]",
            "text/plain": [
              "<Figure size 576x432 with 1 Axes>"
            ]
          },
          "metadata": {
            "tags": []
          }
        }
      ]
    },
    {
      "cell_type": "markdown",
      "metadata": {
        "id": "KLAIlmFOx1hz",
        "colab_type": "text"
      },
      "source": [
        "### Done with outliers"
      ]
    },
    {
      "cell_type": "code",
      "metadata": {
        "id": "IjrX4La6x1h0",
        "colab_type": "code",
        "outputId": "59d770bd-5640-49f5-80bc-b85484bff73a",
        "colab": {
          "base_uri": "https://localhost:8080/",
          "height": 556
        }
      },
      "source": [
        "data_cleaned = data_2.reset_index(drop=True)\n",
        "data_cleaned.head()"
      ],
      "execution_count": 144,
      "outputs": [
        {
          "output_type": "execute_result",
          "data": {
            "text/html": [
              "<div>\n",
              "<style scoped>\n",
              "    .dataframe tbody tr th:only-of-type {\n",
              "        vertical-align: middle;\n",
              "    }\n",
              "\n",
              "    .dataframe tbody tr th {\n",
              "        vertical-align: top;\n",
              "    }\n",
              "\n",
              "    .dataframe thead th {\n",
              "        text-align: right;\n",
              "    }\n",
              "</style>\n",
              "<table border=\"1\" class=\"dataframe\">\n",
              "  <thead>\n",
              "    <tr style=\"text-align: right;\">\n",
              "      <th></th>\n",
              "      <th>Episode</th>\n",
              "      <th>Station</th>\n",
              "      <th>Channel Type</th>\n",
              "      <th>Season</th>\n",
              "      <th>Year</th>\n",
              "      <th>Date</th>\n",
              "      <th>Day of week</th>\n",
              "      <th>Start_time</th>\n",
              "      <th>End_time</th>\n",
              "      <th>Length</th>\n",
              "      <th>Name of show</th>\n",
              "      <th>Genre</th>\n",
              "      <th>First time or rerun</th>\n",
              "      <th>Number of episode in the season</th>\n",
              "      <th>Movie</th>\n",
              "      <th>Game of the Canadiens during episode</th>\n",
              "      <th>Temperature in Montreal during episode</th>\n",
              "      <th>Market Share_total</th>\n",
              "      <th>month</th>\n",
              "      <th>quarter</th>\n",
              "    </tr>\n",
              "  </thead>\n",
              "  <tbody>\n",
              "    <tr>\n",
              "      <th>0</th>\n",
              "      <td>Coup de foudre</td>\n",
              "      <td>MusiquePlus+ (retired Aug 25, 2019)</td>\n",
              "      <td>Specialty Channel</td>\n",
              "      <td>Fall</td>\n",
              "      <td>2018</td>\n",
              "      <td>2018-08-27 00:00:00.000</td>\n",
              "      <td>Monday</td>\n",
              "      <td>2018-08-27 05:30:00.000</td>\n",
              "      <td>2018-08-27 06:00:00.000</td>\n",
              "      <td>2</td>\n",
              "      <td>Coup de foudre</td>\n",
              "      <td>General Entertainment and Human Interest</td>\n",
              "      <td>No</td>\n",
              "      <td>Yes</td>\n",
              "      <td>No</td>\n",
              "      <td>No</td>\n",
              "      <td>20.125</td>\n",
              "      <td>0.0</td>\n",
              "      <td>8</td>\n",
              "      <td>3</td>\n",
              "    </tr>\n",
              "    <tr>\n",
              "      <th>1</th>\n",
              "      <td>Coup de foudre</td>\n",
              "      <td>MusiquePlus+ (retired Aug 25, 2019)</td>\n",
              "      <td>Specialty Channel</td>\n",
              "      <td>Fall</td>\n",
              "      <td>2018</td>\n",
              "      <td>2018-08-27 00:00:00.000</td>\n",
              "      <td>Monday</td>\n",
              "      <td>2018-08-27 06:30:00.000</td>\n",
              "      <td>2018-08-27 07:00:00.000</td>\n",
              "      <td>2</td>\n",
              "      <td>Coup de foudre</td>\n",
              "      <td>General Entertainment and Human Interest</td>\n",
              "      <td>No</td>\n",
              "      <td>Yes</td>\n",
              "      <td>No</td>\n",
              "      <td>No</td>\n",
              "      <td>19.925</td>\n",
              "      <td>0.0</td>\n",
              "      <td>8</td>\n",
              "      <td>3</td>\n",
              "    </tr>\n",
              "    <tr>\n",
              "      <th>2</th>\n",
              "      <td>Coup de foudre</td>\n",
              "      <td>MusiquePlus+ (retired Aug 25, 2019)</td>\n",
              "      <td>Specialty Channel</td>\n",
              "      <td>Fall</td>\n",
              "      <td>2018</td>\n",
              "      <td>2018-08-28 00:00:00.000</td>\n",
              "      <td>Tuesday</td>\n",
              "      <td>2018-08-28 05:30:00.000</td>\n",
              "      <td>2018-08-28 06:00:00.000</td>\n",
              "      <td>2</td>\n",
              "      <td>Coup de foudre</td>\n",
              "      <td>General Entertainment and Human Interest</td>\n",
              "      <td>No</td>\n",
              "      <td>Yes</td>\n",
              "      <td>No</td>\n",
              "      <td>No</td>\n",
              "      <td>21.925</td>\n",
              "      <td>0.0</td>\n",
              "      <td>8</td>\n",
              "      <td>3</td>\n",
              "    </tr>\n",
              "    <tr>\n",
              "      <th>3</th>\n",
              "      <td>Coup de foudre</td>\n",
              "      <td>MusiquePlus+ (retired Aug 25, 2019)</td>\n",
              "      <td>Specialty Channel</td>\n",
              "      <td>Fall</td>\n",
              "      <td>2018</td>\n",
              "      <td>2018-08-28 00:00:00.000</td>\n",
              "      <td>Tuesday</td>\n",
              "      <td>2018-08-28 06:00:00.000</td>\n",
              "      <td>2018-08-28 06:30:00.000</td>\n",
              "      <td>2</td>\n",
              "      <td>Coup de foudre</td>\n",
              "      <td>General Entertainment and Human Interest</td>\n",
              "      <td>No</td>\n",
              "      <td>Yes</td>\n",
              "      <td>No</td>\n",
              "      <td>No</td>\n",
              "      <td>21.525</td>\n",
              "      <td>0.0</td>\n",
              "      <td>8</td>\n",
              "      <td>3</td>\n",
              "    </tr>\n",
              "    <tr>\n",
              "      <th>4</th>\n",
              "      <td>Coup de foudre</td>\n",
              "      <td>MusiquePlus+ (retired Aug 25, 2019)</td>\n",
              "      <td>Specialty Channel</td>\n",
              "      <td>Fall</td>\n",
              "      <td>2018</td>\n",
              "      <td>2018-08-29 00:00:00.000</td>\n",
              "      <td>Wednesday</td>\n",
              "      <td>2018-08-29 05:30:00.000</td>\n",
              "      <td>2018-08-29 06:00:00.000</td>\n",
              "      <td>2</td>\n",
              "      <td>Coup de foudre</td>\n",
              "      <td>General Entertainment and Human Interest</td>\n",
              "      <td>No</td>\n",
              "      <td>Yes</td>\n",
              "      <td>No</td>\n",
              "      <td>No</td>\n",
              "      <td>22.925</td>\n",
              "      <td>0.0</td>\n",
              "      <td>8</td>\n",
              "      <td>3</td>\n",
              "    </tr>\n",
              "  </tbody>\n",
              "</table>\n",
              "</div>"
            ],
            "text/plain": [
              "          Episode                              Station  ... month quarter\n",
              "0  Coup de foudre  MusiquePlus+ (retired Aug 25, 2019)  ...     8       3\n",
              "1  Coup de foudre  MusiquePlus+ (retired Aug 25, 2019)  ...     8       3\n",
              "2  Coup de foudre  MusiquePlus+ (retired Aug 25, 2019)  ...     8       3\n",
              "3  Coup de foudre  MusiquePlus+ (retired Aug 25, 2019)  ...     8       3\n",
              "4  Coup de foudre  MusiquePlus+ (retired Aug 25, 2019)  ...     8       3\n",
              "\n",
              "[5 rows x 20 columns]"
            ]
          },
          "metadata": {
            "tags": []
          },
          "execution_count": 144
        }
      ]
    },
    {
      "cell_type": "markdown",
      "metadata": {
        "id": "YUZlZu7Bx1h4",
        "colab_type": "text"
      },
      "source": [
        "#### Cleaned data from 616613 -> 597869 rows"
      ]
    },
    {
      "cell_type": "code",
      "metadata": {
        "id": "u_hQrU0Hx1h5",
        "colab_type": "code",
        "outputId": "42adcb13-46fa-4c7a-98bc-8bde5db35661",
        "colab": {
          "base_uri": "https://localhost:8080/",
          "height": 229
        }
      },
      "source": [
        "f, (ax1, ax2) = plt.subplots(1,2, sharey=True, figsize=(15,3))\n",
        "ax1.scatter(data_cleaned[\"Length\"], data_cleaned[\"Market Share_total\"])\n",
        "ax1.set_title(\"Market Share Total and Length\")\n",
        "# ax2.scatter(data_cleaned[\"Temperature in Montreal during episode\"], data_cleaned[\"Market Share_total\"])\n",
        "# ax2.set_title(\"Market Share Total and Temperature\")\n",
        "plt.show()"
      ],
      "execution_count": 145,
      "outputs": [
        {
          "output_type": "display_data",
          "data": {
            "image/png": "[encoded data removed]",
            "text/plain": [
              "<Figure size 1080x216 with 2 Axes>"
            ]
          },
          "metadata": {
            "tags": []
          }
        }
      ]
    },
    {
      "cell_type": "markdown",
      "metadata": {
        "id": "Con61sEsx1h-",
        "colab_type": "text"
      },
      "source": [
        "### Create Dummy Variables\n"
      ]
    },
    {
      "cell_type": "code",
      "metadata": {
        "id": "JcShG02Tx1h_",
        "colab_type": "code",
        "outputId": "e0e4f975-bad5-4404-f16a-71fd26078920",
        "colab": {
          "base_uri": "https://localhost:8080/",
          "height": 112
        }
      },
      "source": [
        "final_data = data_cleaned[[\"Station\",\"Year\",\"Length\",\"Market Share_total\",\"Genre\",\"quarter\"]]\n",
        "final_data.head(2)\n",
        "### can be checked further with \"Name of show\"\n"
      ],
      "execution_count": 146,
      "outputs": [
        {
          "output_type": "execute_result",
          "data": {
            "text/html": [
              "<div>\n",
              "<style scoped>\n",
              "    .dataframe tbody tr th:only-of-type {\n",
              "        vertical-align: middle;\n",
              "    }\n",
              "\n",
              "    .dataframe tbody tr th {\n",
              "        vertical-align: top;\n",
              "    }\n",
              "\n",
              "    .dataframe thead th {\n",
              "        text-align: right;\n",
              "    }\n",
              "</style>\n",
              "<table border=\"1\" class=\"dataframe\">\n",
              "  <thead>\n",
              "    <tr style=\"text-align: right;\">\n",
              "      <th></th>\n",
              "      <th>Station</th>\n",
              "      <th>Year</th>\n",
              "      <th>Length</th>\n",
              "      <th>Market Share_total</th>\n",
              "      <th>Genre</th>\n",
              "      <th>quarter</th>\n",
              "    </tr>\n",
              "  </thead>\n",
              "  <tbody>\n",
              "    <tr>\n",
              "      <th>0</th>\n",
              "      <td>MusiquePlus+ (retired Aug 25, 2019)</td>\n",
              "      <td>2018</td>\n",
              "      <td>2</td>\n",
              "      <td>0.0</td>\n",
              "      <td>General Entertainment and Human Interest</td>\n",
              "      <td>3</td>\n",
              "    </tr>\n",
              "    <tr>\n",
              "      <th>1</th>\n",
              "      <td>MusiquePlus+ (retired Aug 25, 2019)</td>\n",
              "      <td>2018</td>\n",
              "      <td>2</td>\n",
              "      <td>0.0</td>\n",
              "      <td>General Entertainment and Human Interest</td>\n",
              "      <td>3</td>\n",
              "    </tr>\n",
              "  </tbody>\n",
              "</table>\n",
              "</div>"
            ],
            "text/plain": [
              "                               Station  ... quarter\n",
              "0  MusiquePlus+ (retired Aug 25, 2019)  ...       3\n",
              "1  MusiquePlus+ (retired Aug 25, 2019)  ...       3\n",
              "\n",
              "[2 rows x 6 columns]"
            ]
          },
          "metadata": {
            "tags": []
          },
          "execution_count": 146
        }
      ]
    },
    {
      "cell_type": "code",
      "metadata": {
        "id": "ht8-9HhBx1iD",
        "colab_type": "code",
        "colab": {}
      },
      "source": [
        "data_with_dummies = pd.get_dummies(final_data, drop_first=True)"
      ],
      "execution_count": 0,
      "outputs": []
    },
    {
      "cell_type": "code",
      "metadata": {
        "id": "QAuvitmfx1iG",
        "colab_type": "code",
        "outputId": "59fd8cd4-d13d-44f0-96e6-6b928945205c",
        "colab": {
          "base_uri": "https://localhost:8080/",
          "height": 313
        }
      },
      "source": [
        "data_with_dummies.head()"
      ],
      "execution_count": 148,
      "outputs": [
        {
          "output_type": "execute_result",
          "data": {
            "text/html": [
              "<div>\n",
              "<style scoped>\n",
              "    .dataframe tbody tr th:only-of-type {\n",
              "        vertical-align: middle;\n",
              "    }\n",
              "\n",
              "    .dataframe tbody tr th {\n",
              "        vertical-align: top;\n",
              "    }\n",
              "\n",
              "    .dataframe thead th {\n",
              "        text-align: right;\n",
              "    }\n",
              "</style>\n",
              "<table border=\"1\" class=\"dataframe\">\n",
              "  <thead>\n",
              "    <tr style=\"text-align: right;\">\n",
              "      <th></th>\n",
              "      <th>Length</th>\n",
              "      <th>Market Share_total</th>\n",
              "      <th>Station_Canal D+</th>\n",
              "      <th>Station_Canal Vie+</th>\n",
              "      <th>Station_Evasion+</th>\n",
              "      <th>Station_Historia+</th>\n",
              "      <th>Station_LCN+</th>\n",
              "      <th>Station_MAX+</th>\n",
              "      <th>Station_Meteomedia+</th>\n",
              "      <th>Station_MusiquePlus+ (retired Aug 25, 2019)</th>\n",
              "      <th>Station_PYC Online Stream Fr CBC-8+</th>\n",
              "      <th>Station_PYC Online Stream Fr CBC-9+</th>\n",
              "      <th>Station_RDI+</th>\n",
              "      <th>Station_RDS+</th>\n",
              "      <th>Station_RDS2+</th>\n",
              "      <th>Station_SRC Total</th>\n",
              "      <th>Station_Series++</th>\n",
              "      <th>Station_TQ Total</th>\n",
              "      <th>Station_TV5+</th>\n",
              "      <th>Station_TVA Total</th>\n",
              "      <th>Station_Teletoon Fr.+</th>\n",
              "      <th>Station_Unis TV+</th>\n",
              "      <th>Station_V Total</th>\n",
              "      <th>Station_VRAK+</th>\n",
              "      <th>Station_Z+</th>\n",
              "      <th>Year_2017</th>\n",
              "      <th>Year_2018</th>\n",
              "      <th>Year_2019</th>\n",
              "      <th>Genre_Analysis and Interpretation</th>\n",
              "      <th>Genre_Animated Television Programs &amp; Films</th>\n",
              "      <th>Genre_Filler</th>\n",
              "      <th>Genre_Formal Education and Pre-School</th>\n",
              "      <th>Genre_Game Shows</th>\n",
              "      <th>Genre_General Entertainment and Human Interest</th>\n",
              "      <th>Genre_Infomercials, Promotional and Corporate Videos</th>\n",
              "      <th>Genre_Informal Education and Recreation and Leisure</th>\n",
              "      <th>Genre_Interstitial</th>\n",
              "      <th>Genre_Long-form Documentary</th>\n",
              "      <th>Genre_Music Video Clips</th>\n",
              "      <th>Genre_Music Video Programs</th>\n",
              "      <th>Genre_Music and Dance other than Music Video Programs or Clips</th>\n",
              "      <th>Genre_News</th>\n",
              "      <th>Genre_Ongoing Comedy Series (Sitcoms)</th>\n",
              "      <th>Genre_Ongoing Dramatic Series</th>\n",
              "      <th>Genre_Other Drama</th>\n",
              "      <th>Genre_Professional Sports</th>\n",
              "      <th>Genre_Programs of Comedy Sketches, Improvision, Unscripted Works</th>\n",
              "      <th>Genre_Reality Programs</th>\n",
              "      <th>Genre_Religion</th>\n",
              "      <th>Genre_Reporting and Actualities</th>\n",
              "      <th>Genre_Specials, Mini-Series or Made-for-TV Feature Films</th>\n",
              "      <th>Genre_Theatre Feature Films Aired on TV</th>\n",
              "      <th>Genre_Unknown</th>\n",
              "      <th>Genre_Variety</th>\n",
              "      <th>quarter_2</th>\n",
              "      <th>quarter_3</th>\n",
              "      <th>quarter_4</th>\n",
              "    </tr>\n",
              "  </thead>\n",
              "  <tbody>\n",
              "    <tr>\n",
              "      <th>0</th>\n",
              "      <td>2</td>\n",
              "      <td>0.0</td>\n",
              "      <td>0</td>\n",
              "      <td>0</td>\n",
              "      <td>0</td>\n",
              "      <td>0</td>\n",
              "      <td>0</td>\n",
              "      <td>0</td>\n",
              "      <td>0</td>\n",
              "      <td>1</td>\n",
              "      <td>0</td>\n",
              "      <td>0</td>\n",
              "      <td>0</td>\n",
              "      <td>0</td>\n",
              "      <td>0</td>\n",
              "      <td>0</td>\n",
              "      <td>0</td>\n",
              "      <td>0</td>\n",
              "      <td>0</td>\n",
              "      <td>0</td>\n",
              "      <td>0</td>\n",
              "      <td>0</td>\n",
              "      <td>0</td>\n",
              "      <td>0</td>\n",
              "      <td>0</td>\n",
              "      <td>0</td>\n",
              "      <td>1</td>\n",
              "      <td>0</td>\n",
              "      <td>0</td>\n",
              "      <td>0</td>\n",
              "      <td>0</td>\n",
              "      <td>0</td>\n",
              "      <td>0</td>\n",
              "      <td>1</td>\n",
              "      <td>0</td>\n",
              "      <td>0</td>\n",
              "      <td>0</td>\n",
              "      <td>0</td>\n",
              "      <td>0</td>\n",
              "      <td>0</td>\n",
              "      <td>0</td>\n",
              "      <td>0</td>\n",
              "      <td>0</td>\n",
              "      <td>0</td>\n",
              "      <td>0</td>\n",
              "      <td>0</td>\n",
              "      <td>0</td>\n",
              "      <td>0</td>\n",
              "      <td>0</td>\n",
              "      <td>0</td>\n",
              "      <td>0</td>\n",
              "      <td>0</td>\n",
              "      <td>0</td>\n",
              "      <td>0</td>\n",
              "      <td>0</td>\n",
              "      <td>1</td>\n",
              "      <td>0</td>\n",
              "    </tr>\n",
              "    <tr>\n",
              "      <th>1</th>\n",
              "      <td>2</td>\n",
              "      <td>0.0</td>\n",
              "      <td>0</td>\n",
              "      <td>0</td>\n",
              "      <td>0</td>\n",
              "      <td>0</td>\n",
              "      <td>0</td>\n",
              "      <td>0</td>\n",
              "      <td>0</td>\n",
              "      <td>1</td>\n",
              "      <td>0</td>\n",
              "      <td>0</td>\n",
              "      <td>0</td>\n",
              "      <td>0</td>\n",
              "      <td>0</td>\n",
              "      <td>0</td>\n",
              "      <td>0</td>\n",
              "      <td>0</td>\n",
              "      <td>0</td>\n",
              "      <td>0</td>\n",
              "      <td>0</td>\n",
              "      <td>0</td>\n",
              "      <td>0</td>\n",
              "      <td>0</td>\n",
              "      <td>0</td>\n",
              "      <td>0</td>\n",
              "      <td>1</td>\n",
              "      <td>0</td>\n",
              "      <td>0</td>\n",
              "      <td>0</td>\n",
              "      <td>0</td>\n",
              "      <td>0</td>\n",
              "      <td>0</td>\n",
              "      <td>1</td>\n",
              "      <td>0</td>\n",
              "      <td>0</td>\n",
              "      <td>0</td>\n",
              "      <td>0</td>\n",
              "      <td>0</td>\n",
              "      <td>0</td>\n",
              "      <td>0</td>\n",
              "      <td>0</td>\n",
              "      <td>0</td>\n",
              "      <td>0</td>\n",
              "      <td>0</td>\n",
              "      <td>0</td>\n",
              "      <td>0</td>\n",
              "      <td>0</td>\n",
              "      <td>0</td>\n",
              "      <td>0</td>\n",
              "      <td>0</td>\n",
              "      <td>0</td>\n",
              "      <td>0</td>\n",
              "      <td>0</td>\n",
              "      <td>0</td>\n",
              "      <td>1</td>\n",
              "      <td>0</td>\n",
              "    </tr>\n",
              "    <tr>\n",
              "      <th>2</th>\n",
              "      <td>2</td>\n",
              "      <td>0.0</td>\n",
              "      <td>0</td>\n",
              "      <td>0</td>\n",
              "      <td>0</td>\n",
              "      <td>0</td>\n",
              "      <td>0</td>\n",
              "      <td>0</td>\n",
              "      <td>0</td>\n",
              "      <td>1</td>\n",
              "      <td>0</td>\n",
              "      <td>0</td>\n",
              "      <td>0</td>\n",
              "      <td>0</td>\n",
              "      <td>0</td>\n",
              "      <td>0</td>\n",
              "      <td>0</td>\n",
              "      <td>0</td>\n",
              "      <td>0</td>\n",
              "      <td>0</td>\n",
              "      <td>0</td>\n",
              "      <td>0</td>\n",
              "      <td>0</td>\n",
              "      <td>0</td>\n",
              "      <td>0</td>\n",
              "      <td>0</td>\n",
              "      <td>1</td>\n",
              "      <td>0</td>\n",
              "      <td>0</td>\n",
              "      <td>0</td>\n",
              "      <td>0</td>\n",
              "      <td>0</td>\n",
              "      <td>0</td>\n",
              "      <td>1</td>\n",
              "      <td>0</td>\n",
              "      <td>0</td>\n",
              "      <td>0</td>\n",
              "      <td>0</td>\n",
              "      <td>0</td>\n",
              "      <td>0</td>\n",
              "      <td>0</td>\n",
              "      <td>0</td>\n",
              "      <td>0</td>\n",
              "      <td>0</td>\n",
              "      <td>0</td>\n",
              "      <td>0</td>\n",
              "      <td>0</td>\n",
              "      <td>0</td>\n",
              "      <td>0</td>\n",
              "      <td>0</td>\n",
              "      <td>0</td>\n",
              "      <td>0</td>\n",
              "      <td>0</td>\n",
              "      <td>0</td>\n",
              "      <td>0</td>\n",
              "      <td>1</td>\n",
              "      <td>0</td>\n",
              "    </tr>\n",
              "    <tr>\n",
              "      <th>3</th>\n",
              "      <td>2</td>\n",
              "      <td>0.0</td>\n",
              "      <td>0</td>\n",
              "      <td>0</td>\n",
              "      <td>0</td>\n",
              "      <td>0</td>\n",
              "      <td>0</td>\n",
              "      <td>0</td>\n",
              "      <td>0</td>\n",
              "      <td>1</td>\n",
              "      <td>0</td>\n",
              "      <td>0</td>\n",
              "      <td>0</td>\n",
              "      <td>0</td>\n",
              "      <td>0</td>\n",
              "      <td>0</td>\n",
              "      <td>0</td>\n",
              "      <td>0</td>\n",
              "      <td>0</td>\n",
              "      <td>0</td>\n",
              "      <td>0</td>\n",
              "      <td>0</td>\n",
              "      <td>0</td>\n",
              "      <td>0</td>\n",
              "      <td>0</td>\n",
              "      <td>0</td>\n",
              "      <td>1</td>\n",
              "      <td>0</td>\n",
              "      <td>0</td>\n",
              "      <td>0</td>\n",
              "      <td>0</td>\n",
              "      <td>0</td>\n",
              "      <td>0</td>\n",
              "      <td>1</td>\n",
              "      <td>0</td>\n",
              "      <td>0</td>\n",
              "      <td>0</td>\n",
              "      <td>0</td>\n",
              "      <td>0</td>\n",
              "      <td>0</td>\n",
              "      <td>0</td>\n",
              "      <td>0</td>\n",
              "      <td>0</td>\n",
              "      <td>0</td>\n",
              "      <td>0</td>\n",
              "      <td>0</td>\n",
              "      <td>0</td>\n",
              "      <td>0</td>\n",
              "      <td>0</td>\n",
              "      <td>0</td>\n",
              "      <td>0</td>\n",
              "      <td>0</td>\n",
              "      <td>0</td>\n",
              "      <td>0</td>\n",
              "      <td>0</td>\n",
              "      <td>1</td>\n",
              "      <td>0</td>\n",
              "    </tr>\n",
              "    <tr>\n",
              "      <th>4</th>\n",
              "      <td>2</td>\n",
              "      <td>0.0</td>\n",
              "      <td>0</td>\n",
              "      <td>0</td>\n",
              "      <td>0</td>\n",
              "      <td>0</td>\n",
              "      <td>0</td>\n",
              "      <td>0</td>\n",
              "      <td>0</td>\n",
              "      <td>1</td>\n",
              "      <td>0</td>\n",
              "      <td>0</td>\n",
              "      <td>0</td>\n",
              "      <td>0</td>\n",
              "      <td>0</td>\n",
              "      <td>0</td>\n",
              "      <td>0</td>\n",
              "      <td>0</td>\n",
              "      <td>0</td>\n",
              "      <td>0</td>\n",
              "      <td>0</td>\n",
              "      <td>0</td>\n",
              "      <td>0</td>\n",
              "      <td>0</td>\n",
              "      <td>0</td>\n",
              "      <td>0</td>\n",
              "      <td>1</td>\n",
              "      <td>0</td>\n",
              "      <td>0</td>\n",
              "      <td>0</td>\n",
              "      <td>0</td>\n",
              "      <td>0</td>\n",
              "      <td>0</td>\n",
              "      <td>1</td>\n",
              "      <td>0</td>\n",
              "      <td>0</td>\n",
              "      <td>0</td>\n",
              "      <td>0</td>\n",
              "      <td>0</td>\n",
              "      <td>0</td>\n",
              "      <td>0</td>\n",
              "      <td>0</td>\n",
              "      <td>0</td>\n",
              "      <td>0</td>\n",
              "      <td>0</td>\n",
              "      <td>0</td>\n",
              "      <td>0</td>\n",
              "      <td>0</td>\n",
              "      <td>0</td>\n",
              "      <td>0</td>\n",
              "      <td>0</td>\n",
              "      <td>0</td>\n",
              "      <td>0</td>\n",
              "      <td>0</td>\n",
              "      <td>0</td>\n",
              "      <td>1</td>\n",
              "      <td>0</td>\n",
              "    </tr>\n",
              "  </tbody>\n",
              "</table>\n",
              "</div>"
            ],
            "text/plain": [
              "   Length  Market Share_total  ...  quarter_3  quarter_4\n",
              "0       2                 0.0  ...          1          0\n",
              "1       2                 0.0  ...          1          0\n",
              "2       2                 0.0  ...          1          0\n",
              "3       2                 0.0  ...          1          0\n",
              "4       2                 0.0  ...          1          0\n",
              "\n",
              "[5 rows x 57 columns]"
            ]
          },
          "metadata": {
            "tags": []
          },
          "execution_count": 148
        }
      ]
    },
    {
      "cell_type": "markdown",
      "metadata": {
        "id": "EyDyo8exx1iJ",
        "colab_type": "text"
      },
      "source": [
        "### Standardization and train_test Split"
      ]
    },
    {
      "cell_type": "code",
      "metadata": {
        "id": "dJqKHDdox1iJ",
        "colab_type": "code",
        "colab": {}
      },
      "source": [
        "target = data_with_dummies[\"Market Share_total\"]\n",
        "inputs = data_with_dummies.drop([\"Market Share_total\"],axis=1)"
      ],
      "execution_count": 0,
      "outputs": []
    },
    {
      "cell_type": "code",
      "metadata": {
        "id": "p1MrTPbgx1iN",
        "colab_type": "code",
        "colab": {}
      },
      "source": [
        "from sklearn.preprocessing import StandardScaler\n",
        "\n",
        "scaler = StandardScaler()\n",
        "scaler.fit(inputs)\n",
        "inputs_scaled = scaler.transform(inputs)"
      ],
      "execution_count": 0,
      "outputs": []
    },
    {
      "cell_type": "code",
      "metadata": {
        "id": "9GM1fADxx1iQ",
        "colab_type": "code",
        "colab": {}
      },
      "source": [
        "from sklearn.model_selection import train_test_split\n",
        "\n",
        "x_train, x_test, y_train, y_test = train_test_split(inputs, target, test_size=0.2, random_state=21)\n"
      ],
      "execution_count": 0,
      "outputs": []
    },
    {
      "cell_type": "markdown",
      "metadata": {
        "id": "kBgxuAfax1iV",
        "colab_type": "text"
      },
      "source": [
        "### Regression Assumptions\n",
        ". "
      ]
    },
    {
      "cell_type": "markdown",
      "metadata": {
        "id": "vHKaHgCPx1iV",
        "colab_type": "text"
      },
      "source": [
        "### Create the Regression\n",
        "#### Simple multivariate linear regression "
      ]
    },
    {
      "cell_type": "code",
      "metadata": {
        "id": "QRvvuqYPx1iW",
        "colab_type": "code",
        "outputId": "debed4b5-b160-43c5-bd1e-4560ab33fabc",
        "colab": {
          "base_uri": "https://localhost:8080/",
          "height": 35
        }
      },
      "source": [
        "# poly = PolynomialFeatures(2)\n",
        "# x_poly = poly.fit_transform(x_train)\n",
        "reg = LinearRegression()\n",
        "reg.fit(x_train, y_train)"
      ],
      "execution_count": 154,
      "outputs": [
        {
          "output_type": "execute_result",
          "data": {
            "text/plain": [
              "LinearRegression(copy_X=True, fit_intercept=True, n_jobs=None, normalize=False)"
            ]
          },
          "metadata": {
            "tags": []
          },
          "execution_count": 154
        }
      ]
    },
    {
      "cell_type": "code",
      "metadata": {
        "id": "yobcX-s_x1iZ",
        "colab_type": "code",
        "outputId": "bf1a98e1-be21-410e-8851-011d6e9e9053",
        "colab": {
          "base_uri": "https://localhost:8080/",
          "height": 35
        }
      },
      "source": [
        "reg.score(x_train,y_train)"
      ],
      "execution_count": 155,
      "outputs": [
        {
          "output_type": "execute_result",
          "data": {
            "text/plain": [
              "0.5825208935181836"
            ]
          },
          "metadata": {
            "tags": []
          },
          "execution_count": 155
        }
      ]
    },
    {
      "cell_type": "code",
      "metadata": {
        "id": "nV24KTXXx1ie",
        "colab_type": "code",
        "outputId": "cf6c786b-527a-4f95-8a90-3790c45b2e88",
        "colab": {
          "base_uri": "https://localhost:8080/",
          "height": 377
        }
      },
      "source": [
        "y_hat = reg.predict(x_test)\n",
        "plt.scatter(y_test,y_hat)\n",
        "plt.show()"
      ],
      "execution_count": 156,
      "outputs": [
        {
          "output_type": "display_data",
          "data": {
            "image/png": "[encoded data removed]",
            "text/plain": [
              "<Figure size 576x432 with 1 Axes>"
            ]
          },
          "metadata": {
            "tags": []
          }
        }
      ]
    },
    {
      "cell_type": "code",
      "metadata": {
        "id": "2D4E__8Kx1ii",
        "colab_type": "code",
        "outputId": "00fc78bc-c666-435a-cff0-24aed9cdf5ea",
        "colab": {
          "base_uri": "https://localhost:8080/",
          "height": 432
        }
      },
      "source": [
        "sns.distplot(y_test - y_hat)\n",
        "plt.title(\"Residuals PDF\", size=18)"
      ],
      "execution_count": 157,
      "outputs": [
        {
          "output_type": "execute_result",
          "data": {
            "text/plain": [
              "Text(0.5, 1.0, 'Residuals PDF')"
            ]
          },
          "metadata": {
            "tags": []
          },
          "execution_count": 157
        },
        {
          "output_type": "display_data",
          "data": {
            "image/png": "[encoded data removed]",
            "text/plain": [
              "<Figure size 576x432 with 1 Axes>"
            ]
          },
          "metadata": {
            "tags": []
          }
        }
      ]
    },
    {
      "cell_type": "code",
      "metadata": {
        "id": "t0LOGmk9x1im",
        "colab_type": "code",
        "outputId": "a2ef41a7-80d1-4b8e-9215-dfab86247b7b",
        "colab": {
          "base_uri": "https://localhost:8080/",
          "height": 206
        }
      },
      "source": [
        "y_test = y_test.reset_index(drop=True)\n",
        "df_pf = pd.DataFrame(y_hat, columns=['Prediction'])\n",
        "df_pf[\"Target\"] = y_test\n",
        "df_pf[\"Residual\"] = df_pf[\"Target\"] - df_pf[\"Prediction\"]\n",
        "df_pf[\"Difference%\"] = np.absolute(df_pf[\"Residual\"]/df_pf[\"Target\"]*100)\n",
        "df_pf.head()"
      ],
      "execution_count": 158,
      "outputs": [
        {
          "output_type": "execute_result",
          "data": {
            "text/html": [
              "<div>\n",
              "<style scoped>\n",
              "    .dataframe tbody tr th:only-of-type {\n",
              "        vertical-align: middle;\n",
              "    }\n",
              "\n",
              "    .dataframe tbody tr th {\n",
              "        vertical-align: top;\n",
              "    }\n",
              "\n",
              "    .dataframe thead th {\n",
              "        text-align: right;\n",
              "    }\n",
              "</style>\n",
              "<table border=\"1\" class=\"dataframe\">\n",
              "  <thead>\n",
              "    <tr style=\"text-align: right;\">\n",
              "      <th></th>\n",
              "      <th>Prediction</th>\n",
              "      <th>Target</th>\n",
              "      <th>Residual</th>\n",
              "      <th>Difference%</th>\n",
              "    </tr>\n",
              "  </thead>\n",
              "  <tbody>\n",
              "    <tr>\n",
              "      <th>0</th>\n",
              "      <td>3.774471</td>\n",
              "      <td>4.1</td>\n",
              "      <td>0.325529</td>\n",
              "      <td>7.939739</td>\n",
              "    </tr>\n",
              "    <tr>\n",
              "      <th>1</th>\n",
              "      <td>1.736229</td>\n",
              "      <td>3.2</td>\n",
              "      <td>1.463771</td>\n",
              "      <td>45.742841</td>\n",
              "    </tr>\n",
              "    <tr>\n",
              "      <th>2</th>\n",
              "      <td>0.906309</td>\n",
              "      <td>2.0</td>\n",
              "      <td>1.093691</td>\n",
              "      <td>54.684544</td>\n",
              "    </tr>\n",
              "    <tr>\n",
              "      <th>3</th>\n",
              "      <td>8.045980</td>\n",
              "      <td>6.0</td>\n",
              "      <td>-2.045980</td>\n",
              "      <td>34.099670</td>\n",
              "    </tr>\n",
              "    <tr>\n",
              "      <th>4</th>\n",
              "      <td>1.707403</td>\n",
              "      <td>1.0</td>\n",
              "      <td>-0.707403</td>\n",
              "      <td>70.740278</td>\n",
              "    </tr>\n",
              "  </tbody>\n",
              "</table>\n",
              "</div>"
            ],
            "text/plain": [
              "   Prediction  Target  Residual  Difference%\n",
              "0    3.774471     4.1  0.325529     7.939739\n",
              "1    1.736229     3.2  1.463771    45.742841\n",
              "2    0.906309     2.0  1.093691    54.684544\n",
              "3    8.045980     6.0 -2.045980    34.099670\n",
              "4    1.707403     1.0 -0.707403    70.740278"
            ]
          },
          "metadata": {
            "tags": []
          },
          "execution_count": 158
        }
      ]
    },
    {
      "cell_type": "code",
      "metadata": {
        "id": "ZoOP9j9fx1ip",
        "colab_type": "code",
        "outputId": "8e08d30a-e8dc-4912-8825-2d97fdc7d871",
        "colab": {
          "base_uri": "https://localhost:8080/",
          "height": 53
        }
      },
      "source": [
        "import sklearn.metrics as metrics\n",
        "\n",
        "mae = metrics.mean_absolute_error(y_test, y_hat)\n",
        "r2 = metrics.r2_score(y_test,y_hat)\n",
        "\n",
        "print(\"MAE:\", mae)\n",
        "print(\"R-Squared:\", r2)"
      ],
      "execution_count": 159,
      "outputs": [
        {
          "output_type": "stream",
          "text": [
            "MAE: 1.6026785173979436\n",
            "R-Squared: 0.5808706984247444\n"
          ],
          "name": "stdout"
        }
      ]
    },
    {
      "cell_type": "markdown",
      "metadata": {
        "id": "PfBUNlRazUTa",
        "colab_type": "text"
      },
      "source": [
        "### Other Machine Learning Models"
      ]
    },
    {
      "cell_type": "code",
      "metadata": {
        "id": "0_2j1FtazXkp",
        "colab_type": "code",
        "outputId": "e5db94be-4ab9-46fd-f5eb-8f9d97a52410",
        "colab": {
          "base_uri": "https://localhost:8080/",
          "height": 632
        }
      },
      "source": [
        "#Importing the auxiliar and preprocessing librarys \n",
        "from sklearn.metrics import accuracy_score, confusion_matrix, classification_report\n",
        "from sklearn.model_selection import cross_val_score\n",
        "from sklearn.preprocessing import LabelEncoder, StandardScaler, MinMaxScaler\n",
        "from sklearn.pipeline import Pipeline\n",
        "\n",
        "from sklearn.model_selection import train_test_split, KFold, cross_validate\n",
        "from sklearn.metrics import accuracy_score\n",
        "\n",
        "#Models\n",
        "from sklearn.tree import DecisionTreeRegressor\n",
        "from sklearn.linear_model import Ridge, BayesianRidge\n",
        "from sklearn.svm import SVR\n",
        "from sklearn.ensemble import AdaBoostRegressor, RandomForestRegressor, GradientBoostingRegressor\n",
        "\n",
        "\n",
        "clfs = []\n",
        "\n",
        "clfs.append((\"AdaBoostRegressor\",\n",
        "             Pipeline([(\"Scaler\", StandardScaler()),\n",
        "                       (\"Adaboost\", AdaBoostRegressor())]))) \n",
        "clfs.append((\"GradientBoostingRegressor\",\n",
        "             Pipeline([(\"Scaler\", StandardScaler()),\n",
        "                       (\"GradientBoosting\", GradientBoostingRegressor())]))) \n",
        "\n",
        "clfs.append((\"DecisionTreeRegressor\",\n",
        "             Pipeline([(\"Scaler\", StandardScaler()),\n",
        "                       (\"DART\", DecisionTreeRegressor())]))) \n",
        "\n",
        "clfs.append((\"RidgeRegressor\", \n",
        "             Pipeline([(\"Scaler\", StandardScaler()),\n",
        "                       (\"Ridge\", Ridge())]))) \n",
        "\n",
        "clfs.append((\"BayesianRidgeRegressor\", \n",
        "             Pipeline([(\"Scaler\", StandardScaler()),\n",
        "                       (\"BayesianRidge\", BayesianRidge())])))\n",
        "\n",
        "\n",
        "#'neg_mean_absolute_error', 'neg_mean_squared_error','r2'\n",
        "scoring = 'r2'\n",
        "n_folds = 5\n",
        "\n",
        "results, names  = [], [] \n",
        "\n",
        "for name, model  in clfs:\n",
        "    kfold = KFold(n_splits=n_folds)\n",
        "    cv_results = cross_val_score(model, x_train, y_train, cv= kfold, scoring=scoring, n_jobs=-1)    \n",
        "    names.append(name)\n",
        "    results.append(cv_results)    \n",
        "    msg = \"%s: %f (+/- %f)\" % (name, cv_results.mean(),  cv_results.std())\n",
        "    print(msg)\n",
        "    \n",
        "# boxplot algorithm comparison\n",
        "fig = plt.figure(figsize=(8,6))\n",
        "fig.suptitle('Regressor Algorithm Comparison', fontsize=14)\n",
        "ax = fig.add_subplot(111)\n",
        "sns.boxplot(x=names, y=results)\n",
        "ax.set_xticklabels(names)\n",
        "ax.set_xlabel(\"Algorithm\", fontsize=12)\n",
        "ax.set_ylabel(\"R-squared of Models\", fontsize=12)\n",
        "ax.set_xticklabels(ax.get_xticklabels(),rotation=45)\n",
        "plt.show()"
      ],
      "execution_count": 151,
      "outputs": [
        {
          "output_type": "stream",
          "text": [
            "AdaBoostRegressor: 0.437008 (+/- 0.010605)\n",
            "GradientBoostingRegressor: 0.631952 (+/- 0.002346)\n",
            "DecisionTreeRegressor: 0.688816 (+/- 0.001597)\n",
            "RidgeRegressor: 0.582377 (+/- 0.002774)\n",
            "BayesianRidgeRegressor: 0.582377 (+/- 0.002775)\n"
          ],
          "name": "stdout"
        },
        {
          "output_type": "display_data",
          "data": {
            "image/png": "[encoded data removed]",
            "text/plain": [
              "<Figure size 576x432 with 1 Axes>"
            ]
          },
          "metadata": {
            "tags": []
          }
        }
      ]
    }
  ]
}