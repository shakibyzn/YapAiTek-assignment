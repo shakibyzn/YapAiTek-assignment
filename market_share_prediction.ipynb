{
  "nbformat": 4,
  "nbformat_minor": 0,
  "metadata": {
    "kernelspec": {
      "name": "python3",
      "display_name": "Python 3"
    },
    "language_info": {
      "codemirror_mode": {
        "name": "ipython",
        "version": 3
      },
      "file_extension": ".py",
      "mimetype": "text/x-python",
      "name": "python",
      "nbconvert_exporter": "python",
      "pygments_lexer": "ipython3",
      "version": "3.6.8"
    },
    "colab": {
      "name": "ensemble_labelencoding_yapaitek_market_share_analysis.ipynb",
      "provenance": [],
      "collapsed_sections": [],
      "machine_shape": "hm"
    },
    "accelerator": "GPU"
  },
  "cells": [
    {
      "cell_type": "code",
      "metadata": {
        "id": "xFIBZDVgx9hM",
        "colab_type": "code",
        "outputId": "05af508f-4bcc-4a3f-b33d-afed43128469",
        "colab": {
          "base_uri": "https://localhost:8080/",
          "height": 128
        }
      },
      "source": [
        "from google.colab import drive\n",
        "drive.mount('/content/drive')"
      ],
      "execution_count": 1,
      "outputs": [
        {
          "output_type": "stream",
          "text": [
            "Go to this URL in a browser: https://accounts.google.com/o/oauth2/auth?client_id=947318989803-6bn6qk8qdgf4n4g3pfee6491hc0brc4i.apps.googleusercontent.com&redirect_uri=urn%3aietf%3awg%3aoauth%3a2.0%3aoob&response_type=code&scope=email%20https%3a%2f%2fwww.googleapis.com%2fauth%2fdocs.test%20https%3a%2f%2fwww.googleapis.com%2fauth%2fdrive%20https%3a%2f%2fwww.googleapis.com%2fauth%2fdrive.photos.readonly%20https%3a%2f%2fwww.googleapis.com%2fauth%2fpeopleapi.readonly\n",
            "\n",
            "Enter your authorization code:\n",
            "··········\n",
            "Mounted at /content/drive\n"
          ],
          "name": "stdout"
        }
      ]
    },
    {
      "cell_type": "markdown",
      "metadata": {
        "id": "xOD2I6gdx1gw",
        "colab_type": "text"
      },
      "source": [
        "### Importing Libraries"
      ]
    },
    {
      "cell_type": "code",
      "metadata": {
        "id": "3hxtkLaFx1gy",
        "colab_type": "code",
        "outputId": "273a37e2-f137-4b5b-b576-e3d84eb07a1e",
        "colab": {
          "base_uri": "https://localhost:8080/",
          "height": 73
        }
      },
      "source": [
        "import numpy as np\n",
        "import pandas as pd\n",
        "pd.options.mode.chained_assignment = None\n",
        "import matplotlib.pyplot as plt\n",
        "import statsmodels.api as sm\n",
        "from sklearn.preprocessing import StandardScaler, Normalizer, RobustScaler\n",
        "import seaborn as sns\n",
        "sns.set()\n",
        "sns.set(rc={'figure.figsize':(8,6)})"
      ],
      "execution_count": 2,
      "outputs": [
        {
          "output_type": "stream",
          "text": [
            "/usr/local/lib/python3.6/dist-packages/statsmodels/tools/_testing.py:19: FutureWarning: pandas.util.testing is deprecated. Use the functions in the public API at pandas.testing instead.\n",
            "  import pandas.util.testing as tm\n"
          ],
          "name": "stderr"
        }
      ]
    },
    {
      "cell_type": "code",
      "metadata": {
        "id": "bCSm3-imyNLj",
        "colab_type": "code",
        "colab": {}
      },
      "source": [
        "!cp drive/My\\ Drive/yapaitek/exported_csv_montreal_tv_locals_after_imputing_missing_data.csv .\n",
        "!cp drive/My\\ Drive/yapaitek/test.csv ."
      ],
      "execution_count": 0,
      "outputs": []
    },
    {
      "cell_type": "markdown",
      "metadata": {
        "id": "trBZYUzpx1g6",
        "colab_type": "text"
      },
      "source": [
        "1. \"Temperature in Montreal during episode\" column was imputed by \"Multiple Imputations by Chained Equations(MICE) method because more than 5% of data was missing (about 13 percent), but this feature never used because it does not have any correlation with the independent value\n",
        "\n",
        "\n",
        "\n",
        "2. There were 43 missing values in Start_time, End_time which are now removed\n",
        "\n",
        "\n",
        "\n",
        "3. Dataset columns are renamed and formatted "
      ]
    },
    {
      "cell_type": "code",
      "metadata": {
        "id": "5maWnaCXx1g9",
        "colab_type": "code",
        "outputId": "224765a4-9a87-43a3-9000-de52f9c40651",
        "colab": {
          "base_uri": "https://localhost:8080/",
          "height": 420
        }
      },
      "source": [
        "raw_data = pd.read_csv('exported_csv_montreal_tv_locals_after_imputing_missing_data.csv',index_col=['Id'])\n",
        "raw_data['Year'] = raw_data['Year'].astype('category')\n",
        "raw_data.sort_values(['Id']).head(3)"
      ],
      "execution_count": 46,
      "outputs": [
        {
          "output_type": "execute_result",
          "data": {
            "text/html": [
              "<div>\n",
              "<style scoped>\n",
              "    .dataframe tbody tr th:only-of-type {\n",
              "        vertical-align: middle;\n",
              "    }\n",
              "\n",
              "    .dataframe tbody tr th {\n",
              "        vertical-align: top;\n",
              "    }\n",
              "\n",
              "    .dataframe thead th {\n",
              "        text-align: right;\n",
              "    }\n",
              "</style>\n",
              "<table border=\"1\" class=\"dataframe\">\n",
              "  <thead>\n",
              "    <tr style=\"text-align: right;\">\n",
              "      <th></th>\n",
              "      <th>Episode</th>\n",
              "      <th>Station</th>\n",
              "      <th>Channel Type</th>\n",
              "      <th>Season</th>\n",
              "      <th>Year</th>\n",
              "      <th>Date</th>\n",
              "      <th>Day of week</th>\n",
              "      <th>Start_time</th>\n",
              "      <th>End_time</th>\n",
              "      <th>Length</th>\n",
              "      <th>Name of show</th>\n",
              "      <th>Genre</th>\n",
              "      <th>First time or rerun</th>\n",
              "      <th>Number of episode in the season</th>\n",
              "      <th>Movie</th>\n",
              "      <th>Game of the Canadiens during episode</th>\n",
              "      <th>Temperature in Montreal during episode</th>\n",
              "      <th>Market Share_total</th>\n",
              "    </tr>\n",
              "    <tr>\n",
              "      <th>Id</th>\n",
              "      <th></th>\n",
              "      <th></th>\n",
              "      <th></th>\n",
              "      <th></th>\n",
              "      <th></th>\n",
              "      <th></th>\n",
              "      <th></th>\n",
              "      <th></th>\n",
              "      <th></th>\n",
              "      <th></th>\n",
              "      <th></th>\n",
              "      <th></th>\n",
              "      <th></th>\n",
              "      <th></th>\n",
              "      <th></th>\n",
              "      <th></th>\n",
              "      <th></th>\n",
              "      <th></th>\n",
              "    </tr>\n",
              "  </thead>\n",
              "  <tbody>\n",
              "    <tr>\n",
              "      <th>0</th>\n",
              "      <td>VidÃ©oclips V</td>\n",
              "      <td>V Total</td>\n",
              "      <td>General Channel</td>\n",
              "      <td>Fall</td>\n",
              "      <td>2016</td>\n",
              "      <td>2016-08-29 00:00:00.000</td>\n",
              "      <td>Monday</td>\n",
              "      <td>2016-08-29 06:00:00.000</td>\n",
              "      <td>2016-08-29 08:00:00.000</td>\n",
              "      <td>8</td>\n",
              "      <td>VidÃ©oclips V</td>\n",
              "      <td>Music Video Clips</td>\n",
              "      <td>No</td>\n",
              "      <td>Yes</td>\n",
              "      <td>No</td>\n",
              "      <td>No</td>\n",
              "      <td>20.400</td>\n",
              "      <td>0.9</td>\n",
              "    </tr>\n",
              "    <tr>\n",
              "      <th>1</th>\n",
              "      <td>Apollo dans l'frigo</td>\n",
              "      <td>V Total</td>\n",
              "      <td>General Channel</td>\n",
              "      <td>Fall</td>\n",
              "      <td>2016</td>\n",
              "      <td>2016-08-29 00:00:00.000</td>\n",
              "      <td>Monday</td>\n",
              "      <td>2016-08-29 08:00:00.000</td>\n",
              "      <td>2016-08-29 08:30:00.000</td>\n",
              "      <td>2</td>\n",
              "      <td>Apollo dans l'frigo</td>\n",
              "      <td>Informal Education and Recreation and Leisure</td>\n",
              "      <td>No</td>\n",
              "      <td>Yes</td>\n",
              "      <td>No</td>\n",
              "      <td>No</td>\n",
              "      <td>19.125</td>\n",
              "      <td>0.5</td>\n",
              "    </tr>\n",
              "    <tr>\n",
              "      <th>2</th>\n",
              "      <td>InfopublicitÃ©</td>\n",
              "      <td>V Total</td>\n",
              "      <td>General Channel</td>\n",
              "      <td>Fall</td>\n",
              "      <td>2016</td>\n",
              "      <td>2016-08-29 00:00:00.000</td>\n",
              "      <td>Monday</td>\n",
              "      <td>2016-08-29 08:30:00.000</td>\n",
              "      <td>2016-08-29 09:00:00.000</td>\n",
              "      <td>2</td>\n",
              "      <td>InfopublicitÃ©</td>\n",
              "      <td>Infomercials, Promotional and Corporate Videos</td>\n",
              "      <td>No</td>\n",
              "      <td>Yes</td>\n",
              "      <td>No</td>\n",
              "      <td>No</td>\n",
              "      <td>19.125</td>\n",
              "      <td>0.3</td>\n",
              "    </tr>\n",
              "  </tbody>\n",
              "</table>\n",
              "</div>"
            ],
            "text/plain": [
              "                Episode  ... Market Share_total\n",
              "Id                       ...                   \n",
              "0         VidÃ©oclips V  ...                0.9\n",
              "1   Apollo dans l'frigo  ...                0.5\n",
              "2        InfopublicitÃ©  ...                0.3\n",
              "\n",
              "[3 rows x 18 columns]"
            ]
          },
          "metadata": {
            "tags": []
          },
          "execution_count": 46
        }
      ]
    },
    {
      "cell_type": "code",
      "metadata": {
        "id": "woW3qYxHWGNG",
        "colab_type": "code",
        "colab": {}
      },
      "source": [
        "import datetime as dt\n",
        "\n",
        "raw_data[\"quarter\"] = pd.to_datetime(raw_data['Date']).dt.quarter\n",
        "raw_data['quarter'] = raw_data['quarter'].astype('category')"
      ],
      "execution_count": 0,
      "outputs": []
    },
    {
      "cell_type": "code",
      "metadata": {
        "id": "TrtILfbnx1hE",
        "colab_type": "code",
        "outputId": "c8c60137-00d4-425f-f5cd-679cf44f179f",
        "colab": {
          "base_uri": "https://localhost:8080/",
          "height": 536
        }
      },
      "source": [
        "raw_data.describe(include='all')"
      ],
      "execution_count": 48,
      "outputs": [
        {
          "output_type": "execute_result",
          "data": {
            "text/html": [
              "<div>\n",
              "<style scoped>\n",
              "    .dataframe tbody tr th:only-of-type {\n",
              "        vertical-align: middle;\n",
              "    }\n",
              "\n",
              "    .dataframe tbody tr th {\n",
              "        vertical-align: top;\n",
              "    }\n",
              "\n",
              "    .dataframe thead th {\n",
              "        text-align: right;\n",
              "    }\n",
              "</style>\n",
              "<table border=\"1\" class=\"dataframe\">\n",
              "  <thead>\n",
              "    <tr style=\"text-align: right;\">\n",
              "      <th></th>\n",
              "      <th>Episode</th>\n",
              "      <th>Station</th>\n",
              "      <th>Channel Type</th>\n",
              "      <th>Season</th>\n",
              "      <th>Year</th>\n",
              "      <th>Date</th>\n",
              "      <th>Day of week</th>\n",
              "      <th>Start_time</th>\n",
              "      <th>End_time</th>\n",
              "      <th>Length</th>\n",
              "      <th>Name of show</th>\n",
              "      <th>Genre</th>\n",
              "      <th>First time or rerun</th>\n",
              "      <th>Number of episode in the season</th>\n",
              "      <th>Movie</th>\n",
              "      <th>Game of the Canadiens during episode</th>\n",
              "      <th>Temperature in Montreal during episode</th>\n",
              "      <th>Market Share_total</th>\n",
              "      <th>quarter</th>\n",
              "    </tr>\n",
              "  </thead>\n",
              "  <tbody>\n",
              "    <tr>\n",
              "      <th>count</th>\n",
              "      <td>616613</td>\n",
              "      <td>616613</td>\n",
              "      <td>616613</td>\n",
              "      <td>616613</td>\n",
              "      <td>616613.0</td>\n",
              "      <td>616613</td>\n",
              "      <td>616613</td>\n",
              "      <td>616613</td>\n",
              "      <td>616613</td>\n",
              "      <td>616613.000000</td>\n",
              "      <td>616613</td>\n",
              "      <td>616613</td>\n",
              "      <td>616613</td>\n",
              "      <td>616613</td>\n",
              "      <td>616613</td>\n",
              "      <td>616613</td>\n",
              "      <td>616613.000000</td>\n",
              "      <td>616613.000000</td>\n",
              "      <td>616613.0</td>\n",
              "    </tr>\n",
              "    <tr>\n",
              "      <th>unique</th>\n",
              "      <td>6551</td>\n",
              "      <td>24</td>\n",
              "      <td>2</td>\n",
              "      <td>4</td>\n",
              "      <td>4.0</td>\n",
              "      <td>877</td>\n",
              "      <td>7</td>\n",
              "      <td>138321</td>\n",
              "      <td>138333</td>\n",
              "      <td>NaN</td>\n",
              "      <td>6551</td>\n",
              "      <td>27</td>\n",
              "      <td>2</td>\n",
              "      <td>2</td>\n",
              "      <td>2</td>\n",
              "      <td>2</td>\n",
              "      <td>NaN</td>\n",
              "      <td>NaN</td>\n",
              "      <td>4.0</td>\n",
              "    </tr>\n",
              "    <tr>\n",
              "      <th>top</th>\n",
              "      <td>ComplÃ©ment de programme canadien</td>\n",
              "      <td>Teletoon Fr.+</td>\n",
              "      <td>Specialty Channel</td>\n",
              "      <td>Fall</td>\n",
              "      <td>2018.0</td>\n",
              "      <td>2018-02-07 00:00:00.000</td>\n",
              "      <td>Wednesday</td>\n",
              "      <td>2018-02-25 02:00:00.000</td>\n",
              "      <td>2018-09-21 23:00:00.000</td>\n",
              "      <td>NaN</td>\n",
              "      <td>ComplÃ©ment de programme canadien</td>\n",
              "      <td>Animated Television Programs &amp; Films</td>\n",
              "      <td>No</td>\n",
              "      <td>Yes</td>\n",
              "      <td>No</td>\n",
              "      <td>No</td>\n",
              "      <td>NaN</td>\n",
              "      <td>NaN</td>\n",
              "      <td>4.0</td>\n",
              "    </tr>\n",
              "    <tr>\n",
              "      <th>freq</th>\n",
              "      <td>9413</td>\n",
              "      <td>50746</td>\n",
              "      <td>535913</td>\n",
              "      <td>234291</td>\n",
              "      <td>260111.0</td>\n",
              "      <td>840</td>\n",
              "      <td>89726</td>\n",
              "      <td>27</td>\n",
              "      <td>32</td>\n",
              "      <td>NaN</td>\n",
              "      <td>9413</td>\n",
              "      <td>88876</td>\n",
              "      <td>599428</td>\n",
              "      <td>605960</td>\n",
              "      <td>610326</td>\n",
              "      <td>568803</td>\n",
              "      <td>NaN</td>\n",
              "      <td>NaN</td>\n",
              "      <td>192577.0</td>\n",
              "    </tr>\n",
              "    <tr>\n",
              "      <th>mean</th>\n",
              "      <td>NaN</td>\n",
              "      <td>NaN</td>\n",
              "      <td>NaN</td>\n",
              "      <td>NaN</td>\n",
              "      <td>NaN</td>\n",
              "      <td>NaN</td>\n",
              "      <td>NaN</td>\n",
              "      <td>NaN</td>\n",
              "      <td>NaN</td>\n",
              "      <td>3.203927</td>\n",
              "      <td>NaN</td>\n",
              "      <td>NaN</td>\n",
              "      <td>NaN</td>\n",
              "      <td>NaN</td>\n",
              "      <td>NaN</td>\n",
              "      <td>NaN</td>\n",
              "      <td>6.707849</td>\n",
              "      <td>3.011577</td>\n",
              "      <td>NaN</td>\n",
              "    </tr>\n",
              "    <tr>\n",
              "      <th>std</th>\n",
              "      <td>NaN</td>\n",
              "      <td>NaN</td>\n",
              "      <td>NaN</td>\n",
              "      <td>NaN</td>\n",
              "      <td>NaN</td>\n",
              "      <td>NaN</td>\n",
              "      <td>NaN</td>\n",
              "      <td>NaN</td>\n",
              "      <td>NaN</td>\n",
              "      <td>5.306816</td>\n",
              "      <td>NaN</td>\n",
              "      <td>NaN</td>\n",
              "      <td>NaN</td>\n",
              "      <td>NaN</td>\n",
              "      <td>NaN</td>\n",
              "      <td>NaN</td>\n",
              "      <td>11.326101</td>\n",
              "      <td>4.919651</td>\n",
              "      <td>NaN</td>\n",
              "    </tr>\n",
              "    <tr>\n",
              "      <th>min</th>\n",
              "      <td>NaN</td>\n",
              "      <td>NaN</td>\n",
              "      <td>NaN</td>\n",
              "      <td>NaN</td>\n",
              "      <td>NaN</td>\n",
              "      <td>NaN</td>\n",
              "      <td>NaN</td>\n",
              "      <td>NaN</td>\n",
              "      <td>NaN</td>\n",
              "      <td>0.000000</td>\n",
              "      <td>NaN</td>\n",
              "      <td>NaN</td>\n",
              "      <td>NaN</td>\n",
              "      <td>NaN</td>\n",
              "      <td>NaN</td>\n",
              "      <td>NaN</td>\n",
              "      <td>-27.425000</td>\n",
              "      <td>0.000000</td>\n",
              "      <td>NaN</td>\n",
              "    </tr>\n",
              "    <tr>\n",
              "      <th>25%</th>\n",
              "      <td>NaN</td>\n",
              "      <td>NaN</td>\n",
              "      <td>NaN</td>\n",
              "      <td>NaN</td>\n",
              "      <td>NaN</td>\n",
              "      <td>NaN</td>\n",
              "      <td>NaN</td>\n",
              "      <td>NaN</td>\n",
              "      <td>NaN</td>\n",
              "      <td>2.000000</td>\n",
              "      <td>NaN</td>\n",
              "      <td>NaN</td>\n",
              "      <td>NaN</td>\n",
              "      <td>NaN</td>\n",
              "      <td>NaN</td>\n",
              "      <td>NaN</td>\n",
              "      <td>-0.325000</td>\n",
              "      <td>0.400000</td>\n",
              "      <td>NaN</td>\n",
              "    </tr>\n",
              "    <tr>\n",
              "      <th>50%</th>\n",
              "      <td>NaN</td>\n",
              "      <td>NaN</td>\n",
              "      <td>NaN</td>\n",
              "      <td>NaN</td>\n",
              "      <td>NaN</td>\n",
              "      <td>NaN</td>\n",
              "      <td>NaN</td>\n",
              "      <td>NaN</td>\n",
              "      <td>NaN</td>\n",
              "      <td>2.000000</td>\n",
              "      <td>NaN</td>\n",
              "      <td>NaN</td>\n",
              "      <td>NaN</td>\n",
              "      <td>NaN</td>\n",
              "      <td>NaN</td>\n",
              "      <td>NaN</td>\n",
              "      <td>6.671228</td>\n",
              "      <td>1.400000</td>\n",
              "      <td>NaN</td>\n",
              "    </tr>\n",
              "    <tr>\n",
              "      <th>75%</th>\n",
              "      <td>NaN</td>\n",
              "      <td>NaN</td>\n",
              "      <td>NaN</td>\n",
              "      <td>NaN</td>\n",
              "      <td>NaN</td>\n",
              "      <td>NaN</td>\n",
              "      <td>NaN</td>\n",
              "      <td>NaN</td>\n",
              "      <td>NaN</td>\n",
              "      <td>4.000000</td>\n",
              "      <td>NaN</td>\n",
              "      <td>NaN</td>\n",
              "      <td>NaN</td>\n",
              "      <td>NaN</td>\n",
              "      <td>NaN</td>\n",
              "      <td>NaN</td>\n",
              "      <td>15.575000</td>\n",
              "      <td>3.400000</td>\n",
              "      <td>NaN</td>\n",
              "    </tr>\n",
              "    <tr>\n",
              "      <th>max</th>\n",
              "      <td>NaN</td>\n",
              "      <td>NaN</td>\n",
              "      <td>NaN</td>\n",
              "      <td>NaN</td>\n",
              "      <td>NaN</td>\n",
              "      <td>NaN</td>\n",
              "      <td>NaN</td>\n",
              "      <td>NaN</td>\n",
              "      <td>NaN</td>\n",
              "      <td>92.000000</td>\n",
              "      <td>NaN</td>\n",
              "      <td>NaN</td>\n",
              "      <td>NaN</td>\n",
              "      <td>NaN</td>\n",
              "      <td>NaN</td>\n",
              "      <td>NaN</td>\n",
              "      <td>34.950000</td>\n",
              "      <td>89.500000</td>\n",
              "      <td>NaN</td>\n",
              "    </tr>\n",
              "  </tbody>\n",
              "</table>\n",
              "</div>"
            ],
            "text/plain": [
              "                                  Episode  ...   quarter\n",
              "count                              616613  ...  616613.0\n",
              "unique                               6551  ...       4.0\n",
              "top     ComplÃ©ment de programme canadien  ...       4.0\n",
              "freq                                 9413  ...  192577.0\n",
              "mean                                  NaN  ...       NaN\n",
              "std                                   NaN  ...       NaN\n",
              "min                                   NaN  ...       NaN\n",
              "25%                                   NaN  ...       NaN\n",
              "50%                                   NaN  ...       NaN\n",
              "75%                                   NaN  ...       NaN\n",
              "max                                   NaN  ...       NaN\n",
              "\n",
              "[11 rows x 19 columns]"
            ]
          },
          "metadata": {
            "tags": []
          },
          "execution_count": 48
        }
      ]
    },
    {
      "cell_type": "markdown",
      "metadata": {
        "id": "KW0oMURdgSOA",
        "colab_type": "text"
      },
      "source": [
        "### Correlation between temperature and market share"
      ]
    },
    {
      "cell_type": "markdown",
      "metadata": {
        "id": "X8NtMbNDx1hJ",
        "colab_type": "text"
      },
      "source": [
        "### No missing values!"
      ]
    },
    {
      "cell_type": "code",
      "metadata": {
        "id": "bkR1mMa1x1hK",
        "colab_type": "code",
        "outputId": "26c41d50-40d4-4692-edbe-fb964c97a619",
        "colab": {
          "base_uri": "https://localhost:8080/",
          "height": 380
        }
      },
      "source": [
        "raw_data.isna().sum()"
      ],
      "execution_count": 49,
      "outputs": [
        {
          "output_type": "execute_result",
          "data": {
            "text/plain": [
              "Episode                                   0\n",
              "Station                                   0\n",
              "Channel Type                              0\n",
              "Season                                    0\n",
              "Year                                      0\n",
              "Date                                      0\n",
              "Day of week                               0\n",
              "Start_time                                0\n",
              "End_time                                  0\n",
              "Length                                    0\n",
              "Name of show                              0\n",
              "Genre                                     0\n",
              "First time or rerun                       0\n",
              "Number of episode in the season           0\n",
              "Movie                                     0\n",
              "Game of the Canadiens during episode      0\n",
              "Temperature in Montreal during episode    0\n",
              "Market Share_total                        0\n",
              "quarter                                   0\n",
              "dtype: int64"
            ]
          },
          "metadata": {
            "tags": []
          },
          "execution_count": 49
        }
      ]
    },
    {
      "cell_type": "markdown",
      "metadata": {
        "id": "rLL9lPkAx1hQ",
        "colab_type": "text"
      },
      "source": [
        "### Exploring the PDFs "
      ]
    },
    {
      "cell_type": "code",
      "metadata": {
        "id": "WhTmW8E7x1hR",
        "colab_type": "code",
        "outputId": "8a2bafd4-40ea-4b81-e6c1-5ac0fbe135a6",
        "colab": {
          "base_uri": "https://localhost:8080/",
          "height": 412
        }
      },
      "source": [
        "sns.distplot(raw_data['Market Share_total'])"
      ],
      "execution_count": 50,
      "outputs": [
        {
          "output_type": "execute_result",
          "data": {
            "text/plain": [
              "<matplotlib.axes._subplots.AxesSubplot at 0x7ff9de688eb8>"
            ]
          },
          "metadata": {
            "tags": []
          },
          "execution_count": 50
        },
        {
          "output_type": "display_data",
          "data": {
            "image/png": "[encoded data removed]",
            "text/plain": [
              "<Figure size 576x432 with 1 Axes>"
            ]
          },
          "metadata": {
            "tags": []
          }
        }
      ]
    },
    {
      "cell_type": "markdown",
      "metadata": {
        "id": "KLAIlmFOx1hz",
        "colab_type": "text"
      },
      "source": [
        "### No outlier detection this time:)"
      ]
    },
    {
      "cell_type": "code",
      "metadata": {
        "id": "IjrX4La6x1h0",
        "colab_type": "code",
        "outputId": "f2c3c8ad-4a01-493c-f1b7-f6f391a2c105",
        "colab": {
          "base_uri": "https://localhost:8080/",
          "height": 556
        }
      },
      "source": [
        "raw_data['Length'] = raw_data['Length'].astype('category')\n",
        "data_cleaned = raw_data.reset_index(drop=True)\n",
        "data_cleaned.head()"
      ],
      "execution_count": 51,
      "outputs": [
        {
          "output_type": "execute_result",
          "data": {
            "text/html": [
              "<div>\n",
              "<style scoped>\n",
              "    .dataframe tbody tr th:only-of-type {\n",
              "        vertical-align: middle;\n",
              "    }\n",
              "\n",
              "    .dataframe tbody tr th {\n",
              "        vertical-align: top;\n",
              "    }\n",
              "\n",
              "    .dataframe thead th {\n",
              "        text-align: right;\n",
              "    }\n",
              "</style>\n",
              "<table border=\"1\" class=\"dataframe\">\n",
              "  <thead>\n",
              "    <tr style=\"text-align: right;\">\n",
              "      <th></th>\n",
              "      <th>Episode</th>\n",
              "      <th>Station</th>\n",
              "      <th>Channel Type</th>\n",
              "      <th>Season</th>\n",
              "      <th>Year</th>\n",
              "      <th>Date</th>\n",
              "      <th>Day of week</th>\n",
              "      <th>Start_time</th>\n",
              "      <th>End_time</th>\n",
              "      <th>Length</th>\n",
              "      <th>Name of show</th>\n",
              "      <th>Genre</th>\n",
              "      <th>First time or rerun</th>\n",
              "      <th>Number of episode in the season</th>\n",
              "      <th>Movie</th>\n",
              "      <th>Game of the Canadiens during episode</th>\n",
              "      <th>Temperature in Montreal during episode</th>\n",
              "      <th>Market Share_total</th>\n",
              "      <th>quarter</th>\n",
              "    </tr>\n",
              "  </thead>\n",
              "  <tbody>\n",
              "    <tr>\n",
              "      <th>0</th>\n",
              "      <td>Coup de foudre</td>\n",
              "      <td>MusiquePlus+ (retired Aug 25, 2019)</td>\n",
              "      <td>Specialty Channel</td>\n",
              "      <td>Fall</td>\n",
              "      <td>2018</td>\n",
              "      <td>2018-08-27 00:00:00.000</td>\n",
              "      <td>Monday</td>\n",
              "      <td>2018-08-27 05:30:00.000</td>\n",
              "      <td>2018-08-27 06:00:00.000</td>\n",
              "      <td>2</td>\n",
              "      <td>Coup de foudre</td>\n",
              "      <td>General Entertainment and Human Interest</td>\n",
              "      <td>No</td>\n",
              "      <td>Yes</td>\n",
              "      <td>No</td>\n",
              "      <td>No</td>\n",
              "      <td>20.125</td>\n",
              "      <td>0.0</td>\n",
              "      <td>3</td>\n",
              "    </tr>\n",
              "    <tr>\n",
              "      <th>1</th>\n",
              "      <td>Coup de foudre</td>\n",
              "      <td>MusiquePlus+ (retired Aug 25, 2019)</td>\n",
              "      <td>Specialty Channel</td>\n",
              "      <td>Fall</td>\n",
              "      <td>2018</td>\n",
              "      <td>2018-08-27 00:00:00.000</td>\n",
              "      <td>Monday</td>\n",
              "      <td>2018-08-27 06:30:00.000</td>\n",
              "      <td>2018-08-27 07:00:00.000</td>\n",
              "      <td>2</td>\n",
              "      <td>Coup de foudre</td>\n",
              "      <td>General Entertainment and Human Interest</td>\n",
              "      <td>No</td>\n",
              "      <td>Yes</td>\n",
              "      <td>No</td>\n",
              "      <td>No</td>\n",
              "      <td>19.925</td>\n",
              "      <td>0.0</td>\n",
              "      <td>3</td>\n",
              "    </tr>\n",
              "    <tr>\n",
              "      <th>2</th>\n",
              "      <td>Coup de foudre</td>\n",
              "      <td>MusiquePlus+ (retired Aug 25, 2019)</td>\n",
              "      <td>Specialty Channel</td>\n",
              "      <td>Fall</td>\n",
              "      <td>2018</td>\n",
              "      <td>2018-08-28 00:00:00.000</td>\n",
              "      <td>Tuesday</td>\n",
              "      <td>2018-08-28 05:30:00.000</td>\n",
              "      <td>2018-08-28 06:00:00.000</td>\n",
              "      <td>2</td>\n",
              "      <td>Coup de foudre</td>\n",
              "      <td>General Entertainment and Human Interest</td>\n",
              "      <td>No</td>\n",
              "      <td>Yes</td>\n",
              "      <td>No</td>\n",
              "      <td>No</td>\n",
              "      <td>21.925</td>\n",
              "      <td>0.0</td>\n",
              "      <td>3</td>\n",
              "    </tr>\n",
              "    <tr>\n",
              "      <th>3</th>\n",
              "      <td>Coup de foudre</td>\n",
              "      <td>MusiquePlus+ (retired Aug 25, 2019)</td>\n",
              "      <td>Specialty Channel</td>\n",
              "      <td>Fall</td>\n",
              "      <td>2018</td>\n",
              "      <td>2018-08-28 00:00:00.000</td>\n",
              "      <td>Tuesday</td>\n",
              "      <td>2018-08-28 06:00:00.000</td>\n",
              "      <td>2018-08-28 06:30:00.000</td>\n",
              "      <td>2</td>\n",
              "      <td>Coup de foudre</td>\n",
              "      <td>General Entertainment and Human Interest</td>\n",
              "      <td>No</td>\n",
              "      <td>Yes</td>\n",
              "      <td>No</td>\n",
              "      <td>No</td>\n",
              "      <td>21.525</td>\n",
              "      <td>0.0</td>\n",
              "      <td>3</td>\n",
              "    </tr>\n",
              "    <tr>\n",
              "      <th>4</th>\n",
              "      <td>Coup de foudre</td>\n",
              "      <td>MusiquePlus+ (retired Aug 25, 2019)</td>\n",
              "      <td>Specialty Channel</td>\n",
              "      <td>Fall</td>\n",
              "      <td>2018</td>\n",
              "      <td>2018-08-29 00:00:00.000</td>\n",
              "      <td>Wednesday</td>\n",
              "      <td>2018-08-29 05:30:00.000</td>\n",
              "      <td>2018-08-29 06:00:00.000</td>\n",
              "      <td>2</td>\n",
              "      <td>Coup de foudre</td>\n",
              "      <td>General Entertainment and Human Interest</td>\n",
              "      <td>No</td>\n",
              "      <td>Yes</td>\n",
              "      <td>No</td>\n",
              "      <td>No</td>\n",
              "      <td>22.925</td>\n",
              "      <td>0.0</td>\n",
              "      <td>3</td>\n",
              "    </tr>\n",
              "  </tbody>\n",
              "</table>\n",
              "</div>"
            ],
            "text/plain": [
              "          Episode  ... quarter\n",
              "0  Coup de foudre  ...       3\n",
              "1  Coup de foudre  ...       3\n",
              "2  Coup de foudre  ...       3\n",
              "3  Coup de foudre  ...       3\n",
              "4  Coup de foudre  ...       3\n",
              "\n",
              "[5 rows x 19 columns]"
            ]
          },
          "metadata": {
            "tags": []
          },
          "execution_count": 51
        }
      ]
    },
    {
      "cell_type": "code",
      "metadata": {
        "id": "u_hQrU0Hx1h5",
        "colab_type": "code",
        "outputId": "41f072b8-c677-48ca-f321-65aa56f2bca6",
        "colab": {
          "base_uri": "https://localhost:8080/",
          "height": 229
        }
      },
      "source": [
        "f, (ax1) = plt.subplots(1,1, sharey=True, figsize=(15,3))\n",
        "ax1.scatter(data_cleaned[\"Length\"], data_cleaned[\"Market Share_total\"])\n",
        "ax1.set_title(\"Market Share Total and Length\")\n",
        "# ax2.scatter(data_cleaned[\"Temperature in Montreal during episode\"], data_cleaned[\"Market Share_total\"])\n",
        "# ax2.set_title(\"Market Share Total and Temperature\")\n",
        "plt.show()"
      ],
      "execution_count": 52,
      "outputs": [
        {
          "output_type": "display_data",
          "data": {
            "image/png": "[encoded data removed]",
            "text/plain": [
              "<Figure size 1080x216 with 1 Axes>"
            ]
          },
          "metadata": {
            "tags": []
          }
        }
      ]
    },
    {
      "cell_type": "markdown",
      "metadata": {
        "id": "JsFHHPSNz5ho",
        "colab_type": "text"
      },
      "source": [
        "### Label Encoder"
      ]
    },
    {
      "cell_type": "code",
      "metadata": {
        "id": "f3f94P4Zz8O2",
        "colab_type": "code",
        "colab": {}
      },
      "source": [
        "from sklearn import preprocessing\n",
        "\n",
        "final_data = data_cleaned[[\"Station\",\"Year\",\"Length\",\"Market Share_total\",\"Genre\",\"quarter\",\"Day of week\",\"Name of show\"]]\n",
        "cols = [\"Station\",\"Year\",\"Length\",\"Genre\",\"quarter\",\"Day of week\",\"Name of show\"]\n",
        "le = preprocessing.LabelEncoder()\n",
        "\n",
        "for col in cols:\n",
        "  le.fit(final_data[col])\n",
        "  final_data[col + '_encoded'] = le.transform(final_data[col]) "
      ],
      "execution_count": 0,
      "outputs": []
    },
    {
      "cell_type": "code",
      "metadata": {
        "id": "GF4OecRW07AW",
        "colab_type": "code",
        "colab": {}
      },
      "source": [
        "final_data_encoded = final_data[[\"Station_encoded\",\"Year_encoded\",\"Length_encoded\",\"Market Share_total\",\"Genre_encoded\",\"quarter_encoded\",\"Day of week_encoded\",\"Name of show_encoded\"]]"
      ],
      "execution_count": 0,
      "outputs": []
    },
    {
      "cell_type": "markdown",
      "metadata": {
        "id": "EyDyo8exx1iJ",
        "colab_type": "text"
      },
      "source": [
        "### Standardization and train_test Split"
      ]
    },
    {
      "cell_type": "code",
      "metadata": {
        "id": "dJqKHDdox1iJ",
        "colab_type": "code",
        "colab": {}
      },
      "source": [
        "target = final_data_encoded[\"Market Share_total\"]\n",
        "inputs = final_data_encoded.drop([\"Market Share_total\"],axis=1)"
      ],
      "execution_count": 0,
      "outputs": []
    },
    {
      "cell_type": "code",
      "metadata": {
        "id": "9GM1fADxx1iQ",
        "colab_type": "code",
        "colab": {}
      },
      "source": [
        "from sklearn.model_selection import train_test_split\n",
        "\n",
        "x_train, x_test, y_train, y_test = train_test_split(inputs, target, test_size=0.1, random_state=21)\n"
      ],
      "execution_count": 0,
      "outputs": []
    },
    {
      "cell_type": "markdown",
      "metadata": {
        "id": "PfBUNlRazUTa",
        "colab_type": "text"
      },
      "source": [
        "###  Machine Learning Models"
      ]
    },
    {
      "cell_type": "code",
      "metadata": {
        "id": "gTCBShqSXGmQ",
        "colab_type": "code",
        "colab": {}
      },
      "source": [
        "#Importing the auxiliar and preprocessing librarys \n",
        "from sklearn.metrics import  confusion_matrix, classification_report\n",
        "from sklearn.model_selection import cross_val_score\n",
        "from sklearn.preprocessing import LabelEncoder, StandardScaler, MinMaxScaler\n",
        "from sklearn.pipeline import Pipeline\n",
        "\n",
        "from sklearn.model_selection import train_test_split, KFold, cross_validate\n",
        "\n",
        "#Models\n",
        "from sklearn.tree import DecisionTreeRegressor\n",
        "from sklearn.linear_model import Ridge, BayesianRidge, LassoCV, LassoLarsCV,ElasticNetCV\n",
        "from sklearn.svm import SVR\n",
        "from sklearn.ensemble import AdaBoostRegressor, RandomForestRegressor, GradientBoostingRegressor"
      ],
      "execution_count": 0,
      "outputs": []
    },
    {
      "cell_type": "code",
      "metadata": {
        "id": "0_2j1FtazXkp",
        "colab_type": "code",
        "outputId": "79b70598-00a7-41d8-cdf1-97dafc72a336",
        "colab": {
          "base_uri": "https://localhost:8080/",
          "height": 652
        }
      },
      "source": [
        "### empty list\n",
        "clfs = []\n",
        "\n",
        "clfs.append((\"RandomForestRegressor\",\n",
        "             Pipeline([(\"Scaler\", RobustScaler()),\n",
        "                       (\"RandomForestRegressor\", RandomForestRegressor())]))) \n",
        "clfs.append((\"GradientBoostingRegressor\",\n",
        "             Pipeline([(\"Scaler\", RobustScaler()),\n",
        "                       (\"GradientBoosting\", GradientBoostingRegressor())]))) \n",
        "\n",
        "clfs.append((\"DecisionTreeRegressor\",\n",
        "             Pipeline([(\"Scaler\", RobustScaler()),\n",
        "                       (\"DART\", DecisionTreeRegressor())]))) \n",
        "\n",
        "### Metrics\n",
        "#'neg_mean_absolute_error', 'neg_mean_squared_error','r2'\n",
        "scoring = 'r2'\n",
        "n_folds = 5\n",
        "\n",
        "results, names  = [], [] \n",
        "\n",
        "for name, model  in clfs:\n",
        "    kfold = KFold(n_splits=n_folds)\n",
        "    cv_results = cross_val_score(model, x_train, y_train, cv= kfold, scoring=scoring, n_jobs=-1)    \n",
        "    names.append(name)\n",
        "    results.append(cv_results)    \n",
        "    msg = \"%s: %f (+/- %f)\" % (name, cv_results.mean(),  cv_results.std())\n",
        "    print(msg)\n",
        "    \n",
        "# boxplot algorithm comparison\n",
        "fig = plt.figure(figsize=(8,6))\n",
        "fig.suptitle('Regressor Algorithm Comparison', fontsize=14)\n",
        "ax = fig.add_subplot(111)\n",
        "sns.boxplot(x=names, y=results)\n",
        "ax.set_xticklabels(names)\n",
        "ax.set_xlabel(\"Algorithm\", fontsize=12)\n",
        "ax.set_ylabel(\"R-squared of Models\", fontsize=12)\n",
        "ax.set_xticklabels(ax.get_xticklabels(),rotation=45)\n",
        "plt.show()"
      ],
      "execution_count": 59,
      "outputs": [
        {
          "output_type": "stream",
          "text": [
            "RandomForestRegressor: 0.850303 (+/- 0.002771)\n"
          ],
          "name": "stdout"
        },
        {
          "output_type": "stream",
          "text": [
            "/usr/local/lib/python3.6/dist-packages/joblib/externals/loky/process_executor.py:706: UserWarning: A worker stopped while some jobs were given to the executor. This can be caused by a too short worker timeout or by a memory leak.\n",
            "  \"timeout or by a memory leak.\", UserWarning\n"
          ],
          "name": "stderr"
        },
        {
          "output_type": "stream",
          "text": [
            "GradientBoostingRegressor: 0.688293 (+/- 0.003451)\n",
            "DecisionTreeRegressor: 0.835725 (+/- 0.001756)\n"
          ],
          "name": "stdout"
        },
        {
          "output_type": "display_data",
          "data": {
            "image/png": "[encoded data removed]",
            "text/plain": [
              "<Figure size 576x432 with 1 Axes>"
            ]
          },
          "metadata": {
            "tags": []
          }
        }
      ]
    },
    {
      "cell_type": "markdown",
      "metadata": {
        "id": "IBR5Qki4FJA0",
        "colab_type": "text"
      },
      "source": [
        "### Stacking multiple models"
      ]
    },
    {
      "cell_type": "code",
      "metadata": {
        "id": "m0fGB0IkFO6I",
        "colab_type": "code",
        "colab": {}
      },
      "source": [
        "from sklearn.pipeline import make_pipeline\n",
        "import lightgbm as lgb\n",
        "import xgboost as xgb\n",
        "\n",
        "Dart = make_pipeline(RobustScaler(), DecisionTreeRegressor())\n",
        "\n",
        "RForest = make_pipeline(RobustScaler(), RandomForestRegressor())\n",
        "\n",
        "\n",
        "model_xgb = xgb.XGBRegressor(colsample_bytree=0.4603, gamma=0.0468, \n",
        "                             learning_rate=0.05, max_depth=3, \n",
        "                             min_child_weight=1.7817, n_estimators=2200,\n",
        "                             reg_alpha=0.4640, reg_lambda=0.8571,\n",
        "                             subsample=0.5213, silent=1,\n",
        "                             random_state =7, nthread = -1)\n",
        "\n",
        "model_lgb = lgb.LGBMRegressor(objective='regression',num_leaves=5,\n",
        "                              learning_rate=0.05, n_estimators=720,\n",
        "                              max_bin = 55, bagging_fraction = 0.8,\n",
        "                              bagging_freq = 5, feature_fraction = 0.2319,\n",
        "                              feature_fraction_seed=9, bagging_seed=9,\n",
        "                              min_data_in_leaf =6, min_sum_hessian_in_leaf = 11)"
      ],
      "execution_count": 0,
      "outputs": []
    },
    {
      "cell_type": "code",
      "metadata": {
        "id": "E2OJAj54Fl8Z",
        "colab_type": "code",
        "colab": {}
      },
      "source": [
        "from sklearn.base import BaseEstimator, TransformerMixin, RegressorMixin, clone\n",
        "\n",
        "class StackingAveragedModels(BaseEstimator, RegressorMixin, TransformerMixin):\n",
        "    def __init__(self, base_models, meta_model, n_folds=5):\n",
        "        self.base_models = base_models\n",
        "        self.meta_model = meta_model\n",
        "        self.n_folds = n_folds\n",
        "   \n",
        "    # We again fit the data on clones of the original models\n",
        "    def fit(self, X, y):\n",
        "        self.base_models_ = [list() for x in self.base_models]\n",
        "        self.meta_model_ = clone(self.meta_model)\n",
        "        kfold = KFold(n_splits=self.n_folds)\n",
        "        \n",
        "        # Train cloned base models then create out-of-fold predictions\n",
        "        # that are needed to train the cloned meta-model\n",
        "        out_of_fold_predictions = np.zeros((X.shape[0], len(self.base_models)))\n",
        "        for i, model in enumerate(self.base_models):\n",
        "            for train_index, holdout_index in kfold.split(X, y):\n",
        "                instance = clone(model)\n",
        "                self.base_models_[i].append(instance)\n",
        "                instance.fit(X[train_index], y[train_index])\n",
        "                y_pred = instance.predict(X[holdout_index])\n",
        "                out_of_fold_predictions[holdout_index, i] = y_pred\n",
        "                \n",
        "        # Now train the cloned  meta-model using the out-of-fold predictions as new feature\n",
        "        self.meta_model_.fit(out_of_fold_predictions, y)\n",
        "        return self\n",
        "   \n",
        "    #Do the predictions of all base models on the test data and use the averaged predictions as \n",
        "    #meta-features for the final prediction which is done by the meta-model\n",
        "    def predict(self, X):\n",
        "        meta_features = np.column_stack([\n",
        "            np.column_stack([model.predict(X) for model in base_models]).mean(axis=1)\n",
        "            for base_models in self.base_models_ ])\n",
        "        return self.meta_model_.predict(meta_features)"
      ],
      "execution_count": 0,
      "outputs": []
    },
    {
      "cell_type": "code",
      "metadata": {
        "id": "_9H1Ps6NFvkQ",
        "colab_type": "code",
        "outputId": "ddbf9907-2a1b-4842-c811-96042c2f1f35",
        "colab": {
          "base_uri": "https://localhost:8080/",
          "height": 617
        }
      },
      "source": [
        "from sklearn.metrics import r2_score, mean_absolute_error\n",
        "#Validation function\n",
        "n_folds = 5\n",
        "\n",
        "# def rmsle_cv(model):\n",
        "#     kf = KFold(n_folds, shuffle=True, random_state=42).get_n_splits(x_train.values)\n",
        "#     rmse= np.sqrt(-cross_val_score(model, x_train.values, y_train.values, scoring=\"neg_mean_squared_error\", cv = kf))\n",
        "#     return(rmse)\n",
        "\n",
        "stacked_averaged_models = StackingAveragedModels(base_models = (model_xgb, RForest),\n",
        "                                                 meta_model = model_lgb)\n",
        "# score = rmsle_cv(stacked_averaged_models)\n",
        "# print(\"Stacking Averaged models score: {:.4f} ({:.4f})\".format(score.mean(), score.std()))\n",
        "\n",
        "\n",
        "stacked_averaged_models.fit(x_train.values, y_train.values)\n"
      ],
      "execution_count": 62,
      "outputs": [
        {
          "output_type": "execute_result",
          "data": {
            "text/plain": [
              "StackingAveragedModels(base_models=(XGBRegressor(base_score=0.5,\n",
              "                                                 booster='gbtree',\n",
              "                                                 colsample_bylevel=1,\n",
              "                                                 colsample_bynode=1,\n",
              "                                                 colsample_bytree=0.4603,\n",
              "                                                 gamma=0.0468,\n",
              "                                                 importance_type='gain',\n",
              "                                                 learning_rate=0.05,\n",
              "                                                 max_delta_step=0, max_depth=3,\n",
              "                                                 min_child_weight=1.7817,\n",
              "                                                 missing=None,\n",
              "                                                 n_estimators=2200, n_jobs=1,\n",
              "                                                 nthread=-1,\n",
              "                                                 objective='reg:linear',\n",
              "                                                 random_state=7,\n",
              "                                                 reg_alpha...\n",
              "                                                importance_type='split',\n",
              "                                                learning_rate=0.05, max_bin=55,\n",
              "                                                max_depth=-1,\n",
              "                                                min_child_samples=20,\n",
              "                                                min_child_weight=0.001,\n",
              "                                                min_data_in_leaf=6,\n",
              "                                                min_split_gain=0.0,\n",
              "                                                min_sum_hessian_in_leaf=11,\n",
              "                                                n_estimators=720, n_jobs=-1,\n",
              "                                                num_leaves=5,\n",
              "                                                objective='regression',\n",
              "                                                random_state=None,\n",
              "                                                reg_alpha=0.0, reg_lambda=0.0,\n",
              "                                                silent=True, subsample=1.0,\n",
              "                                                subsample_for_bin=200000,\n",
              "                                                subsample_freq=0),\n",
              "                       n_folds=5)"
            ]
          },
          "metadata": {
            "tags": []
          },
          "execution_count": 62
        }
      ]
    },
    {
      "cell_type": "code",
      "metadata": {
        "id": "ZfuFNuSaBs9e",
        "colab_type": "code",
        "outputId": "c651025c-b431-41f8-dde4-4998f197582e",
        "colab": {
          "base_uri": "https://localhost:8080/",
          "height": 90
        }
      },
      "source": [
        "stacked_train_pred = stacked_averaged_models.predict(x_train.values)\n",
        "stacked_test_pred = stacked_averaged_models.predict(x_test.values)\n",
        "print(\"Train, R2-Squared value: \",r2_score(y_train.values, stacked_train_pred))\n",
        "print(\"Test, R2-Squared value: \",r2_score(y_test.values, stacked_test_pred))\n",
        "print(\"Train, MAE value: \",mean_absolute_error(y_train.values, stacked_train_pred))\n",
        "print(\"Test, MAE value: \",mean_absolute_error(y_test.values, stacked_test_pred))"
      ],
      "execution_count": 63,
      "outputs": [
        {
          "output_type": "stream",
          "text": [
            "Train, R2-Squared value:  0.8507310100932424\n",
            "Test, R2-Squared value:  0.8275022867504567\n",
            "Train, MAE value:  1.0843023772823048\n",
            "Test, MAE value:  1.1869275443746636\n"
          ],
          "name": "stdout"
        }
      ]
    },
    {
      "cell_type": "code",
      "metadata": {
        "id": "QOdbHDAHtgz0",
        "colab_type": "code",
        "outputId": "a940c438-cf49-4873-fcb6-c8ddf06b4a20",
        "colab": {
          "base_uri": "https://localhost:8080/",
          "height": 536
        }
      },
      "source": [
        "test_df = pd.read_csv(\"test.csv\")\n",
        "test_df_original = test_df.copy()\n",
        "test_df.describe(include=\"all\")"
      ],
      "execution_count": 64,
      "outputs": [
        {
          "output_type": "execute_result",
          "data": {
            "text/html": [
              "<div>\n",
              "<style scoped>\n",
              "    .dataframe tbody tr th:only-of-type {\n",
              "        vertical-align: middle;\n",
              "    }\n",
              "\n",
              "    .dataframe tbody tr th {\n",
              "        vertical-align: top;\n",
              "    }\n",
              "\n",
              "    .dataframe thead th {\n",
              "        text-align: right;\n",
              "    }\n",
              "</style>\n",
              "<table border=\"1\" class=\"dataframe\">\n",
              "  <thead>\n",
              "    <tr style=\"text-align: right;\">\n",
              "      <th></th>\n",
              "      <th>Unnamed: 0</th>\n",
              "      <th>Episode</th>\n",
              "      <th>Station</th>\n",
              "      <th>Channel Type</th>\n",
              "      <th>Season</th>\n",
              "      <th>Year</th>\n",
              "      <th>Date</th>\n",
              "      <th>Day of week</th>\n",
              "      <th>Start_time</th>\n",
              "      <th>End_time</th>\n",
              "      <th>Length</th>\n",
              "      <th>Name of show</th>\n",
              "      <th>Name of episode</th>\n",
              "      <th>Genre</th>\n",
              "      <th>First time or rerun</th>\n",
              "      <th># of episode in the season</th>\n",
              "      <th>Movie?</th>\n",
              "      <th>Game of the Canadiens during episode?</th>\n",
              "      <th>Temperature in Montreal during episode</th>\n",
              "    </tr>\n",
              "  </thead>\n",
              "  <tbody>\n",
              "    <tr>\n",
              "      <th>count</th>\n",
              "      <td>154165.000000</td>\n",
              "      <td>154165</td>\n",
              "      <td>154165</td>\n",
              "      <td>154165</td>\n",
              "      <td>154165</td>\n",
              "      <td>154165.0</td>\n",
              "      <td>154165</td>\n",
              "      <td>154165</td>\n",
              "      <td>154143</td>\n",
              "      <td>154143</td>\n",
              "      <td>154165.000000</td>\n",
              "      <td>154165</td>\n",
              "      <td>123546</td>\n",
              "      <td>154165</td>\n",
              "      <td>154165</td>\n",
              "      <td>154165</td>\n",
              "      <td>154165</td>\n",
              "      <td>154165</td>\n",
              "      <td>130936.000000</td>\n",
              "    </tr>\n",
              "    <tr>\n",
              "      <th>unique</th>\n",
              "      <td>NaN</td>\n",
              "      <td>2760</td>\n",
              "      <td>22</td>\n",
              "      <td>2</td>\n",
              "      <td>3</td>\n",
              "      <td>NaN</td>\n",
              "      <td>216</td>\n",
              "      <td>7</td>\n",
              "      <td>37328</td>\n",
              "      <td>37358</td>\n",
              "      <td>NaN</td>\n",
              "      <td>2760</td>\n",
              "      <td>36776</td>\n",
              "      <td>27</td>\n",
              "      <td>2</td>\n",
              "      <td>2</td>\n",
              "      <td>2</td>\n",
              "      <td>2</td>\n",
              "      <td>NaN</td>\n",
              "    </tr>\n",
              "    <tr>\n",
              "      <th>top</th>\n",
              "      <td>NaN</td>\n",
              "      <td>Buzz</td>\n",
              "      <td>Teletoon Fr.+</td>\n",
              "      <td>Specialty Channel</td>\n",
              "      <td>Winter</td>\n",
              "      <td>NaN</td>\n",
              "      <td>2019-02-06</td>\n",
              "      <td>Wednesday</td>\n",
              "      <td>2019-06-25 02:00:00</td>\n",
              "      <td>2019-05-21 02:00:00</td>\n",
              "      <td>NaN</td>\n",
              "      <td>Buzz</td>\n",
              "      <td>(P)</td>\n",
              "      <td>Animated Television Programs &amp; Films</td>\n",
              "      <td>No</td>\n",
              "      <td>Yes</td>\n",
              "      <td>No</td>\n",
              "      <td>No</td>\n",
              "      <td>NaN</td>\n",
              "    </tr>\n",
              "    <tr>\n",
              "      <th>freq</th>\n",
              "      <td>NaN</td>\n",
              "      <td>3375</td>\n",
              "      <td>14767</td>\n",
              "      <td>132271</td>\n",
              "      <td>69287</td>\n",
              "      <td>NaN</td>\n",
              "      <td>750</td>\n",
              "      <td>22598</td>\n",
              "      <td>25</td>\n",
              "      <td>27</td>\n",
              "      <td>NaN</td>\n",
              "      <td>3375</td>\n",
              "      <td>3005</td>\n",
              "      <td>25170</td>\n",
              "      <td>150843</td>\n",
              "      <td>150078</td>\n",
              "      <td>152444</td>\n",
              "      <td>148061</td>\n",
              "      <td>NaN</td>\n",
              "    </tr>\n",
              "    <tr>\n",
              "      <th>mean</th>\n",
              "      <td>77083.000000</td>\n",
              "      <td>NaN</td>\n",
              "      <td>NaN</td>\n",
              "      <td>NaN</td>\n",
              "      <td>NaN</td>\n",
              "      <td>2019.0</td>\n",
              "      <td>NaN</td>\n",
              "      <td>NaN</td>\n",
              "      <td>NaN</td>\n",
              "      <td>NaN</td>\n",
              "      <td>3.124834</td>\n",
              "      <td>NaN</td>\n",
              "      <td>NaN</td>\n",
              "      <td>NaN</td>\n",
              "      <td>NaN</td>\n",
              "      <td>NaN</td>\n",
              "      <td>NaN</td>\n",
              "      <td>NaN</td>\n",
              "      <td>8.597632</td>\n",
              "    </tr>\n",
              "    <tr>\n",
              "      <th>std</th>\n",
              "      <td>44503.746462</td>\n",
              "      <td>NaN</td>\n",
              "      <td>NaN</td>\n",
              "      <td>NaN</td>\n",
              "      <td>NaN</td>\n",
              "      <td>0.0</td>\n",
              "      <td>NaN</td>\n",
              "      <td>NaN</td>\n",
              "      <td>NaN</td>\n",
              "      <td>NaN</td>\n",
              "      <td>5.323143</td>\n",
              "      <td>NaN</td>\n",
              "      <td>NaN</td>\n",
              "      <td>NaN</td>\n",
              "      <td>NaN</td>\n",
              "      <td>NaN</td>\n",
              "      <td>NaN</td>\n",
              "      <td>NaN</td>\n",
              "      <td>12.642658</td>\n",
              "    </tr>\n",
              "    <tr>\n",
              "      <th>min</th>\n",
              "      <td>1.000000</td>\n",
              "      <td>NaN</td>\n",
              "      <td>NaN</td>\n",
              "      <td>NaN</td>\n",
              "      <td>NaN</td>\n",
              "      <td>2019.0</td>\n",
              "      <td>NaN</td>\n",
              "      <td>NaN</td>\n",
              "      <td>NaN</td>\n",
              "      <td>NaN</td>\n",
              "      <td>0.000000</td>\n",
              "      <td>NaN</td>\n",
              "      <td>NaN</td>\n",
              "      <td>NaN</td>\n",
              "      <td>NaN</td>\n",
              "      <td>NaN</td>\n",
              "      <td>NaN</td>\n",
              "      <td>NaN</td>\n",
              "      <td>-22.775000</td>\n",
              "    </tr>\n",
              "    <tr>\n",
              "      <th>25%</th>\n",
              "      <td>38542.000000</td>\n",
              "      <td>NaN</td>\n",
              "      <td>NaN</td>\n",
              "      <td>NaN</td>\n",
              "      <td>NaN</td>\n",
              "      <td>2019.0</td>\n",
              "      <td>NaN</td>\n",
              "      <td>NaN</td>\n",
              "      <td>NaN</td>\n",
              "      <td>NaN</td>\n",
              "      <td>2.000000</td>\n",
              "      <td>NaN</td>\n",
              "      <td>NaN</td>\n",
              "      <td>NaN</td>\n",
              "      <td>NaN</td>\n",
              "      <td>NaN</td>\n",
              "      <td>NaN</td>\n",
              "      <td>NaN</td>\n",
              "      <td>-1.325000</td>\n",
              "    </tr>\n",
              "    <tr>\n",
              "      <th>50%</th>\n",
              "      <td>77083.000000</td>\n",
              "      <td>NaN</td>\n",
              "      <td>NaN</td>\n",
              "      <td>NaN</td>\n",
              "      <td>NaN</td>\n",
              "      <td>2019.0</td>\n",
              "      <td>NaN</td>\n",
              "      <td>NaN</td>\n",
              "      <td>NaN</td>\n",
              "      <td>NaN</td>\n",
              "      <td>2.000000</td>\n",
              "      <td>NaN</td>\n",
              "      <td>NaN</td>\n",
              "      <td>NaN</td>\n",
              "      <td>NaN</td>\n",
              "      <td>NaN</td>\n",
              "      <td>NaN</td>\n",
              "      <td>NaN</td>\n",
              "      <td>10.150000</td>\n",
              "    </tr>\n",
              "    <tr>\n",
              "      <th>75%</th>\n",
              "      <td>115624.000000</td>\n",
              "      <td>NaN</td>\n",
              "      <td>NaN</td>\n",
              "      <td>NaN</td>\n",
              "      <td>NaN</td>\n",
              "      <td>2019.0</td>\n",
              "      <td>NaN</td>\n",
              "      <td>NaN</td>\n",
              "      <td>NaN</td>\n",
              "      <td>NaN</td>\n",
              "      <td>4.000000</td>\n",
              "      <td>NaN</td>\n",
              "      <td>NaN</td>\n",
              "      <td>NaN</td>\n",
              "      <td>NaN</td>\n",
              "      <td>NaN</td>\n",
              "      <td>NaN</td>\n",
              "      <td>NaN</td>\n",
              "      <td>19.250000</td>\n",
              "    </tr>\n",
              "    <tr>\n",
              "      <th>max</th>\n",
              "      <td>154165.000000</td>\n",
              "      <td>NaN</td>\n",
              "      <td>NaN</td>\n",
              "      <td>NaN</td>\n",
              "      <td>NaN</td>\n",
              "      <td>2019.0</td>\n",
              "      <td>NaN</td>\n",
              "      <td>NaN</td>\n",
              "      <td>NaN</td>\n",
              "      <td>NaN</td>\n",
              "      <td>92.000000</td>\n",
              "      <td>NaN</td>\n",
              "      <td>NaN</td>\n",
              "      <td>NaN</td>\n",
              "      <td>NaN</td>\n",
              "      <td>NaN</td>\n",
              "      <td>NaN</td>\n",
              "      <td>NaN</td>\n",
              "      <td>32.075000</td>\n",
              "    </tr>\n",
              "  </tbody>\n",
              "</table>\n",
              "</div>"
            ],
            "text/plain": [
              "           Unnamed: 0  ... Temperature in Montreal during episode\n",
              "count   154165.000000  ...                          130936.000000\n",
              "unique            NaN  ...                                    NaN\n",
              "top               NaN  ...                                    NaN\n",
              "freq              NaN  ...                                    NaN\n",
              "mean     77083.000000  ...                               8.597632\n",
              "std      44503.746462  ...                              12.642658\n",
              "min          1.000000  ...                             -22.775000\n",
              "25%      38542.000000  ...                              -1.325000\n",
              "50%      77083.000000  ...                              10.150000\n",
              "75%     115624.000000  ...                              19.250000\n",
              "max     154165.000000  ...                              32.075000\n",
              "\n",
              "[11 rows x 19 columns]"
            ]
          },
          "metadata": {
            "tags": []
          },
          "execution_count": 64
        }
      ]
    },
    {
      "cell_type": "code",
      "metadata": {
        "id": "TgS-pu63ulg-",
        "colab_type": "code",
        "outputId": "5367b5bf-f276-490f-99bc-190dbbf7877b",
        "colab": {
          "base_uri": "https://localhost:8080/",
          "height": 380
        }
      },
      "source": [
        "test_df.isna().sum()"
      ],
      "execution_count": 65,
      "outputs": [
        {
          "output_type": "execute_result",
          "data": {
            "text/plain": [
              "Unnamed: 0                                    0\n",
              "Episode                                       0\n",
              "Station                                       0\n",
              "Channel Type                                  0\n",
              "Season                                        0\n",
              "Year                                          0\n",
              "Date                                          0\n",
              "Day of week                                   0\n",
              "Start_time                                   22\n",
              "End_time                                     22\n",
              "Length                                        0\n",
              "Name of show                                  0\n",
              "Name of episode                           30619\n",
              "Genre                                         0\n",
              "First time or rerun                           0\n",
              "# of episode in the season                    0\n",
              "Movie?                                        0\n",
              "Game of the Canadiens during episode?         0\n",
              "Temperature in Montreal during episode    23229\n",
              "dtype: int64"
            ]
          },
          "metadata": {
            "tags": []
          },
          "execution_count": 65
        }
      ]
    },
    {
      "cell_type": "code",
      "metadata": {
        "id": "7bo-mpnOunoB",
        "colab_type": "code",
        "colab": {}
      },
      "source": [
        "test_df[\"Start_time\"].fillna(inplace=True,value=0)\n",
        "test_df[\"End_time\"].fillna(inplace=True,value=0)"
      ],
      "execution_count": 0,
      "outputs": []
    },
    {
      "cell_type": "code",
      "metadata": {
        "id": "RYZnhMjcutvt",
        "colab_type": "code",
        "colab": {}
      },
      "source": [
        "test_df['Year'] = test_df['Year'].astype('category')\n",
        "test_df[\"quarter\"] = pd.to_datetime(test_df['Date']).dt.quarter\n",
        "test_df['quarter'] = test_df['quarter'].astype('category')\n",
        "test_df['Length'] = test_df['Length'].astype('category')"
      ],
      "execution_count": 0,
      "outputs": []
    },
    {
      "cell_type": "code",
      "metadata": {
        "id": "ykct5uPov90p",
        "colab_type": "code",
        "colab": {}
      },
      "source": [
        "test_final = test_df[[\"Station\",\"Year\",\"Length\",\"Genre\",\"quarter\",\"Day of week\",\"Name of show\"]]\n",
        "cols = test_final.columns\n",
        "le = preprocessing.LabelEncoder()\n",
        "\n",
        "for col in cols:\n",
        "  le.fit(test_final[col])\n",
        "  test_final[col + '_encoded'] = le.transform(test_final[col]) "
      ],
      "execution_count": 0,
      "outputs": []
    },
    {
      "cell_type": "code",
      "metadata": {
        "id": "mxKqA_abwETH",
        "colab_type": "code",
        "colab": {}
      },
      "source": [
        "test_final_encoded = test_final[[\"Station_encoded\",\"Year_encoded\",\"Length_encoded\",\"Genre_encoded\",\"quarter_encoded\",\"Day of week_encoded\",\"Name of show_encoded\"]]\n",
        "test_pred_final = stacked_averaged_models.predict(test_final_encoded.values)\n"
      ],
      "execution_count": 0,
      "outputs": []
    },
    {
      "cell_type": "code",
      "metadata": {
        "id": "Oc2XE9Q-CbRB",
        "colab_type": "code",
        "colab": {}
      },
      "source": [
        "test_df_original[\"Market Share_total\"] =  test_pred_final"
      ],
      "execution_count": 0,
      "outputs": []
    },
    {
      "cell_type": "code",
      "metadata": {
        "id": "HINtemJHCxFE",
        "colab_type": "code",
        "colab": {}
      },
      "source": [
        "test_df_original.to_csv(\"Final_prediction.csv\",index=False)"
      ],
      "execution_count": 0,
      "outputs": []
    },
    {
      "cell_type": "code",
      "metadata": {
        "id": "iuINk-32EupP",
        "colab_type": "code",
        "outputId": "f6383ea7-32b1-42d2-ca41-ab53cb2dda3a",
        "colab": {
          "base_uri": "https://localhost:8080/",
          "height": 300
        }
      },
      "source": [
        "test_df_original.describe()"
      ],
      "execution_count": 72,
      "outputs": [
        {
          "output_type": "execute_result",
          "data": {
            "text/html": [
              "<div>\n",
              "<style scoped>\n",
              "    .dataframe tbody tr th:only-of-type {\n",
              "        vertical-align: middle;\n",
              "    }\n",
              "\n",
              "    .dataframe tbody tr th {\n",
              "        vertical-align: top;\n",
              "    }\n",
              "\n",
              "    .dataframe thead th {\n",
              "        text-align: right;\n",
              "    }\n",
              "</style>\n",
              "<table border=\"1\" class=\"dataframe\">\n",
              "  <thead>\n",
              "    <tr style=\"text-align: right;\">\n",
              "      <th></th>\n",
              "      <th>Unnamed: 0</th>\n",
              "      <th>Year</th>\n",
              "      <th>Length</th>\n",
              "      <th>Temperature in Montreal during episode</th>\n",
              "      <th>Market Share_total</th>\n",
              "    </tr>\n",
              "  </thead>\n",
              "  <tbody>\n",
              "    <tr>\n",
              "      <th>count</th>\n",
              "      <td>154165.000000</td>\n",
              "      <td>154165.0</td>\n",
              "      <td>154165.000000</td>\n",
              "      <td>130936.000000</td>\n",
              "      <td>154165.000000</td>\n",
              "    </tr>\n",
              "    <tr>\n",
              "      <th>mean</th>\n",
              "      <td>77083.000000</td>\n",
              "      <td>2019.0</td>\n",
              "      <td>3.124834</td>\n",
              "      <td>8.597632</td>\n",
              "      <td>3.498631</td>\n",
              "    </tr>\n",
              "    <tr>\n",
              "      <th>std</th>\n",
              "      <td>44503.746462</td>\n",
              "      <td>0.0</td>\n",
              "      <td>5.323143</td>\n",
              "      <td>12.642658</td>\n",
              "      <td>4.708603</td>\n",
              "    </tr>\n",
              "    <tr>\n",
              "      <th>min</th>\n",
              "      <td>1.000000</td>\n",
              "      <td>2019.0</td>\n",
              "      <td>0.000000</td>\n",
              "      <td>-22.775000</td>\n",
              "      <td>0.114833</td>\n",
              "    </tr>\n",
              "    <tr>\n",
              "      <th>25%</th>\n",
              "      <td>38542.000000</td>\n",
              "      <td>2019.0</td>\n",
              "      <td>2.000000</td>\n",
              "      <td>-1.325000</td>\n",
              "      <td>0.954103</td>\n",
              "    </tr>\n",
              "    <tr>\n",
              "      <th>50%</th>\n",
              "      <td>77083.000000</td>\n",
              "      <td>2019.0</td>\n",
              "      <td>2.000000</td>\n",
              "      <td>10.150000</td>\n",
              "      <td>1.881577</td>\n",
              "    </tr>\n",
              "    <tr>\n",
              "      <th>75%</th>\n",
              "      <td>115624.000000</td>\n",
              "      <td>2019.0</td>\n",
              "      <td>4.000000</td>\n",
              "      <td>19.250000</td>\n",
              "      <td>3.562840</td>\n",
              "    </tr>\n",
              "    <tr>\n",
              "      <th>max</th>\n",
              "      <td>154165.000000</td>\n",
              "      <td>2019.0</td>\n",
              "      <td>92.000000</td>\n",
              "      <td>32.075000</td>\n",
              "      <td>28.100346</td>\n",
              "    </tr>\n",
              "  </tbody>\n",
              "</table>\n",
              "</div>"
            ],
            "text/plain": [
              "          Unnamed: 0  ...  Market Share_total\n",
              "count  154165.000000  ...       154165.000000\n",
              "mean    77083.000000  ...            3.498631\n",
              "std     44503.746462  ...            4.708603\n",
              "min         1.000000  ...            0.114833\n",
              "25%     38542.000000  ...            0.954103\n",
              "50%     77083.000000  ...            1.881577\n",
              "75%    115624.000000  ...            3.562840\n",
              "max    154165.000000  ...           28.100346\n",
              "\n",
              "[8 rows x 5 columns]"
            ]
          },
          "metadata": {
            "tags": []
          },
          "execution_count": 72
        }
      ]
    }
  ]
}